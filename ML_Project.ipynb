{
  "cells": [
    {
      "cell_type": "code",
      "execution_count": null,
      "metadata": {
        "colab": {
          "base_uri": "https://localhost:8080/"
        },
        "id": "PKuTY2ICtcRj",
        "outputId": "a244ad91-04e7-4626-f981-81afcb92f17a"
      },
      "outputs": [
        {
          "output_type": "stream",
          "name": "stdout",
          "text": [
            "Drive already mounted at /content/drive; to attempt to forcibly remount, call drive.mount(\"/content/drive\", force_remount=True).\n"
          ]
        }
      ],
      "source": [
        "#for fetching data set from google drive\n",
        "from google.colab import drive\n",
        "drive.mount('/content/drive')"
      ]
    },
    {
      "cell_type": "code",
      "execution_count": null,
      "metadata": {
        "colab": {
          "base_uri": "https://localhost:8080/",
          "height": 282
        },
        "id": "dLHIkQHwt1IM",
        "outputId": "03897b80-1397-41d8-ce80-2346a4ea9e5c"
      },
      "outputs": [
        {
          "output_type": "execute_result",
          "data": {
            "text/plain": [
              "  Patient_ID     Systemic Illness  Rectal Pain  Sore Throat  Penile Oedema  \\\n",
              "0         P0                 None        False         True           True   \n",
              "1         P1                Fever         True        False           True   \n",
              "2         P2                Fever        False         True           True   \n",
              "3         P3                 None         True        False          False   \n",
              "4         P4  Swollen Lymph Nodes         True         True           True   \n",
              "\n",
              "   Oral Lesions  Solitary Lesion  Swollen Tonsils  HIV Infection  \\\n",
              "0          True            False             True          False   \n",
              "1          True            False            False           True   \n",
              "2         False            False            False           True   \n",
              "3         False             True             True           True   \n",
              "4         False            False             True           True   \n",
              "\n",
              "   Sexually Transmitted Infection MonkeyPox  \n",
              "0                           False  Negative  \n",
              "1                           False  Positive  \n",
              "2                           False  Positive  \n",
              "3                           False  Positive  \n",
              "4                           False  Positive  "
            ],
            "text/html": [
              "\n",
              "  <div id=\"df-eaccdd4c-3851-4cac-9ec5-348f2ee40f03\">\n",
              "    <div class=\"colab-df-container\">\n",
              "      <div>\n",
              "<style scoped>\n",
              "    .dataframe tbody tr th:only-of-type {\n",
              "        vertical-align: middle;\n",
              "    }\n",
              "\n",
              "    .dataframe tbody tr th {\n",
              "        vertical-align: top;\n",
              "    }\n",
              "\n",
              "    .dataframe thead th {\n",
              "        text-align: right;\n",
              "    }\n",
              "</style>\n",
              "<table border=\"1\" class=\"dataframe\">\n",
              "  <thead>\n",
              "    <tr style=\"text-align: right;\">\n",
              "      <th></th>\n",
              "      <th>Patient_ID</th>\n",
              "      <th>Systemic Illness</th>\n",
              "      <th>Rectal Pain</th>\n",
              "      <th>Sore Throat</th>\n",
              "      <th>Penile Oedema</th>\n",
              "      <th>Oral Lesions</th>\n",
              "      <th>Solitary Lesion</th>\n",
              "      <th>Swollen Tonsils</th>\n",
              "      <th>HIV Infection</th>\n",
              "      <th>Sexually Transmitted Infection</th>\n",
              "      <th>MonkeyPox</th>\n",
              "    </tr>\n",
              "  </thead>\n",
              "  <tbody>\n",
              "    <tr>\n",
              "      <th>0</th>\n",
              "      <td>P0</td>\n",
              "      <td>None</td>\n",
              "      <td>False</td>\n",
              "      <td>True</td>\n",
              "      <td>True</td>\n",
              "      <td>True</td>\n",
              "      <td>False</td>\n",
              "      <td>True</td>\n",
              "      <td>False</td>\n",
              "      <td>False</td>\n",
              "      <td>Negative</td>\n",
              "    </tr>\n",
              "    <tr>\n",
              "      <th>1</th>\n",
              "      <td>P1</td>\n",
              "      <td>Fever</td>\n",
              "      <td>True</td>\n",
              "      <td>False</td>\n",
              "      <td>True</td>\n",
              "      <td>True</td>\n",
              "      <td>False</td>\n",
              "      <td>False</td>\n",
              "      <td>True</td>\n",
              "      <td>False</td>\n",
              "      <td>Positive</td>\n",
              "    </tr>\n",
              "    <tr>\n",
              "      <th>2</th>\n",
              "      <td>P2</td>\n",
              "      <td>Fever</td>\n",
              "      <td>False</td>\n",
              "      <td>True</td>\n",
              "      <td>True</td>\n",
              "      <td>False</td>\n",
              "      <td>False</td>\n",
              "      <td>False</td>\n",
              "      <td>True</td>\n",
              "      <td>False</td>\n",
              "      <td>Positive</td>\n",
              "    </tr>\n",
              "    <tr>\n",
              "      <th>3</th>\n",
              "      <td>P3</td>\n",
              "      <td>None</td>\n",
              "      <td>True</td>\n",
              "      <td>False</td>\n",
              "      <td>False</td>\n",
              "      <td>False</td>\n",
              "      <td>True</td>\n",
              "      <td>True</td>\n",
              "      <td>True</td>\n",
              "      <td>False</td>\n",
              "      <td>Positive</td>\n",
              "    </tr>\n",
              "    <tr>\n",
              "      <th>4</th>\n",
              "      <td>P4</td>\n",
              "      <td>Swollen Lymph Nodes</td>\n",
              "      <td>True</td>\n",
              "      <td>True</td>\n",
              "      <td>True</td>\n",
              "      <td>False</td>\n",
              "      <td>False</td>\n",
              "      <td>True</td>\n",
              "      <td>True</td>\n",
              "      <td>False</td>\n",
              "      <td>Positive</td>\n",
              "    </tr>\n",
              "  </tbody>\n",
              "</table>\n",
              "</div>\n",
              "      <button class=\"colab-df-convert\" onclick=\"convertToInteractive('df-eaccdd4c-3851-4cac-9ec5-348f2ee40f03')\"\n",
              "              title=\"Convert this dataframe to an interactive table.\"\n",
              "              style=\"display:none;\">\n",
              "        \n",
              "  <svg xmlns=\"http://www.w3.org/2000/svg\" height=\"24px\"viewBox=\"0 0 24 24\"\n",
              "       width=\"24px\">\n",
              "    <path d=\"M0 0h24v24H0V0z\" fill=\"none\"/>\n",
              "    <path d=\"M18.56 5.44l.94 2.06.94-2.06 2.06-.94-2.06-.94-.94-2.06-.94 2.06-2.06.94zm-11 1L8.5 8.5l.94-2.06 2.06-.94-2.06-.94L8.5 2.5l-.94 2.06-2.06.94zm10 10l.94 2.06.94-2.06 2.06-.94-2.06-.94-.94-2.06-.94 2.06-2.06.94z\"/><path d=\"M17.41 7.96l-1.37-1.37c-.4-.4-.92-.59-1.43-.59-.52 0-1.04.2-1.43.59L10.3 9.45l-7.72 7.72c-.78.78-.78 2.05 0 2.83L4 21.41c.39.39.9.59 1.41.59.51 0 1.02-.2 1.41-.59l7.78-7.78 2.81-2.81c.8-.78.8-2.07 0-2.86zM5.41 20L4 18.59l7.72-7.72 1.47 1.35L5.41 20z\"/>\n",
              "  </svg>\n",
              "      </button>\n",
              "      \n",
              "  <style>\n",
              "    .colab-df-container {\n",
              "      display:flex;\n",
              "      flex-wrap:wrap;\n",
              "      gap: 12px;\n",
              "    }\n",
              "\n",
              "    .colab-df-convert {\n",
              "      background-color: #E8F0FE;\n",
              "      border: none;\n",
              "      border-radius: 50%;\n",
              "      cursor: pointer;\n",
              "      display: none;\n",
              "      fill: #1967D2;\n",
              "      height: 32px;\n",
              "      padding: 0 0 0 0;\n",
              "      width: 32px;\n",
              "    }\n",
              "\n",
              "    .colab-df-convert:hover {\n",
              "      background-color: #E2EBFA;\n",
              "      box-shadow: 0px 1px 2px rgba(60, 64, 67, 0.3), 0px 1px 3px 1px rgba(60, 64, 67, 0.15);\n",
              "      fill: #174EA6;\n",
              "    }\n",
              "\n",
              "    [theme=dark] .colab-df-convert {\n",
              "      background-color: #3B4455;\n",
              "      fill: #D2E3FC;\n",
              "    }\n",
              "\n",
              "    [theme=dark] .colab-df-convert:hover {\n",
              "      background-color: #434B5C;\n",
              "      box-shadow: 0px 1px 3px 1px rgba(0, 0, 0, 0.15);\n",
              "      filter: drop-shadow(0px 1px 2px rgba(0, 0, 0, 0.3));\n",
              "      fill: #FFFFFF;\n",
              "    }\n",
              "  </style>\n",
              "\n",
              "      <script>\n",
              "        const buttonEl =\n",
              "          document.querySelector('#df-eaccdd4c-3851-4cac-9ec5-348f2ee40f03 button.colab-df-convert');\n",
              "        buttonEl.style.display =\n",
              "          google.colab.kernel.accessAllowed ? 'block' : 'none';\n",
              "\n",
              "        async function convertToInteractive(key) {\n",
              "          const element = document.querySelector('#df-eaccdd4c-3851-4cac-9ec5-348f2ee40f03');\n",
              "          const dataTable =\n",
              "            await google.colab.kernel.invokeFunction('convertToInteractive',\n",
              "                                                     [key], {});\n",
              "          if (!dataTable) return;\n",
              "\n",
              "          const docLinkHtml = 'Like what you see? Visit the ' +\n",
              "            '<a target=\"_blank\" href=https://colab.research.google.com/notebooks/data_table.ipynb>data table notebook</a>'\n",
              "            + ' to learn more about interactive tables.';\n",
              "          element.innerHTML = '';\n",
              "          dataTable['output_type'] = 'display_data';\n",
              "          await google.colab.output.renderOutput(dataTable, element);\n",
              "          const docLink = document.createElement('div');\n",
              "          docLink.innerHTML = docLinkHtml;\n",
              "          element.appendChild(docLink);\n",
              "        }\n",
              "      </script>\n",
              "    </div>\n",
              "  </div>\n",
              "  "
            ]
          },
          "metadata": {},
          "execution_count": 3
        }
      ],
      "source": [
        "import pandas as pd\n",
        "\n",
        "mp_data =pd.read_csv(\"drive/My Drive/Colab_drive/ML_project_dataset/monkeypox_data.csv\")\n",
        "mp_data.head()"
      ]
    },
    {
      "cell_type": "markdown",
      "metadata": {
        "id": "Eg85kM3qMgAr"
      },
      "source": [
        "**Observation** - Here, we can see that we have 9 features and one target variable \"MonkeyPox\" (Patient_ID is non relevant).\n",
        "Target variable can take two values, Positive or Negative."
      ]
    },
    {
      "cell_type": "markdown",
      "metadata": {
        "id": "s8ZVnMq3wKYD"
      },
      "source": [
        "# Exploratory Data Analysis"
      ]
    },
    {
      "cell_type": "code",
      "execution_count": null,
      "metadata": {
        "colab": {
          "base_uri": "https://localhost:8080/"
        },
        "id": "gb_nTI7XumEw",
        "outputId": "20c00a7f-73ed-4ec8-8255-67fcbd0785fd"
      },
      "outputs": [
        {
          "output_type": "execute_result",
          "data": {
            "text/plain": [
              "Patient_ID                        0\n",
              "Systemic Illness                  0\n",
              "Rectal Pain                       0\n",
              "Sore Throat                       0\n",
              "Penile Oedema                     0\n",
              "Oral Lesions                      0\n",
              "Solitary Lesion                   0\n",
              "Swollen Tonsils                   0\n",
              "HIV Infection                     0\n",
              "Sexually Transmitted Infection    0\n",
              "MonkeyPox                         0\n",
              "dtype: int64"
            ]
          },
          "metadata": {},
          "execution_count": 4
        }
      ],
      "source": [
        "# checking for null values\n",
        "mp_data.isnull().sum()"
      ]
    },
    {
      "cell_type": "code",
      "execution_count": null,
      "metadata": {
        "colab": {
          "base_uri": "https://localhost:8080/"
        },
        "id": "MwpukccjLfcQ",
        "outputId": "ae3ddcd6-81c9-471a-ff84-39b41a21d766"
      },
      "outputs": [
        {
          "output_type": "stream",
          "name": "stdout",
          "text": [
            "<class 'pandas.core.frame.DataFrame'>\n",
            "RangeIndex: 25000 entries, 0 to 24999\n",
            "Data columns (total 11 columns):\n",
            " #   Column                          Non-Null Count  Dtype \n",
            "---  ------                          --------------  ----- \n",
            " 0   Patient_ID                      25000 non-null  object\n",
            " 1   Systemic Illness                25000 non-null  object\n",
            " 2   Rectal Pain                     25000 non-null  bool  \n",
            " 3   Sore Throat                     25000 non-null  bool  \n",
            " 4   Penile Oedema                   25000 non-null  bool  \n",
            " 5   Oral Lesions                    25000 non-null  bool  \n",
            " 6   Solitary Lesion                 25000 non-null  bool  \n",
            " 7   Swollen Tonsils                 25000 non-null  bool  \n",
            " 8   HIV Infection                   25000 non-null  bool  \n",
            " 9   Sexually Transmitted Infection  25000 non-null  bool  \n",
            " 10  MonkeyPox                       25000 non-null  object\n",
            "dtypes: bool(8), object(3)\n",
            "memory usage: 781.4+ KB\n"
          ]
        }
      ],
      "source": [
        "# More Description \n",
        "mp_data.info()"
      ]
    },
    {
      "cell_type": "code",
      "execution_count": null,
      "metadata": {
        "colab": {
          "base_uri": "https://localhost:8080/",
          "height": 390
        },
        "id": "u1ovP3X6tq2A",
        "outputId": "87916f43-6cff-44bd-fb57-df1e35ce35ee"
      },
      "outputs": [
        {
          "output_type": "execute_result",
          "data": {
            "text/plain": [
              "                                count unique       top   freq\n",
              "Patient_ID                      25000  25000        P0      1\n",
              "Systemic Illness                25000      4     Fever   6382\n",
              "Rectal Pain                     25000      2     False  12655\n",
              "Sore Throat                     25000      2      True  12554\n",
              "Penile Oedema                   25000      2      True  12612\n",
              "Oral Lesions                    25000      2     False  12514\n",
              "Solitary Lesion                 25000      2      True  12527\n",
              "Swollen Tonsils                 25000      2      True  12533\n",
              "HIV Infection                   25000      2      True  12584\n",
              "Sexually Transmitted Infection  25000      2     False  12554\n",
              "MonkeyPox                       25000      2  Positive  15909"
            ],
            "text/html": [
              "\n",
              "  <div id=\"df-e9b0de83-364e-4646-ac0f-ffec574a8354\">\n",
              "    <div class=\"colab-df-container\">\n",
              "      <div>\n",
              "<style scoped>\n",
              "    .dataframe tbody tr th:only-of-type {\n",
              "        vertical-align: middle;\n",
              "    }\n",
              "\n",
              "    .dataframe tbody tr th {\n",
              "        vertical-align: top;\n",
              "    }\n",
              "\n",
              "    .dataframe thead th {\n",
              "        text-align: right;\n",
              "    }\n",
              "</style>\n",
              "<table border=\"1\" class=\"dataframe\">\n",
              "  <thead>\n",
              "    <tr style=\"text-align: right;\">\n",
              "      <th></th>\n",
              "      <th>count</th>\n",
              "      <th>unique</th>\n",
              "      <th>top</th>\n",
              "      <th>freq</th>\n",
              "    </tr>\n",
              "  </thead>\n",
              "  <tbody>\n",
              "    <tr>\n",
              "      <th>Patient_ID</th>\n",
              "      <td>25000</td>\n",
              "      <td>25000</td>\n",
              "      <td>P0</td>\n",
              "      <td>1</td>\n",
              "    </tr>\n",
              "    <tr>\n",
              "      <th>Systemic Illness</th>\n",
              "      <td>25000</td>\n",
              "      <td>4</td>\n",
              "      <td>Fever</td>\n",
              "      <td>6382</td>\n",
              "    </tr>\n",
              "    <tr>\n",
              "      <th>Rectal Pain</th>\n",
              "      <td>25000</td>\n",
              "      <td>2</td>\n",
              "      <td>False</td>\n",
              "      <td>12655</td>\n",
              "    </tr>\n",
              "    <tr>\n",
              "      <th>Sore Throat</th>\n",
              "      <td>25000</td>\n",
              "      <td>2</td>\n",
              "      <td>True</td>\n",
              "      <td>12554</td>\n",
              "    </tr>\n",
              "    <tr>\n",
              "      <th>Penile Oedema</th>\n",
              "      <td>25000</td>\n",
              "      <td>2</td>\n",
              "      <td>True</td>\n",
              "      <td>12612</td>\n",
              "    </tr>\n",
              "    <tr>\n",
              "      <th>Oral Lesions</th>\n",
              "      <td>25000</td>\n",
              "      <td>2</td>\n",
              "      <td>False</td>\n",
              "      <td>12514</td>\n",
              "    </tr>\n",
              "    <tr>\n",
              "      <th>Solitary Lesion</th>\n",
              "      <td>25000</td>\n",
              "      <td>2</td>\n",
              "      <td>True</td>\n",
              "      <td>12527</td>\n",
              "    </tr>\n",
              "    <tr>\n",
              "      <th>Swollen Tonsils</th>\n",
              "      <td>25000</td>\n",
              "      <td>2</td>\n",
              "      <td>True</td>\n",
              "      <td>12533</td>\n",
              "    </tr>\n",
              "    <tr>\n",
              "      <th>HIV Infection</th>\n",
              "      <td>25000</td>\n",
              "      <td>2</td>\n",
              "      <td>True</td>\n",
              "      <td>12584</td>\n",
              "    </tr>\n",
              "    <tr>\n",
              "      <th>Sexually Transmitted Infection</th>\n",
              "      <td>25000</td>\n",
              "      <td>2</td>\n",
              "      <td>False</td>\n",
              "      <td>12554</td>\n",
              "    </tr>\n",
              "    <tr>\n",
              "      <th>MonkeyPox</th>\n",
              "      <td>25000</td>\n",
              "      <td>2</td>\n",
              "      <td>Positive</td>\n",
              "      <td>15909</td>\n",
              "    </tr>\n",
              "  </tbody>\n",
              "</table>\n",
              "</div>\n",
              "      <button class=\"colab-df-convert\" onclick=\"convertToInteractive('df-e9b0de83-364e-4646-ac0f-ffec574a8354')\"\n",
              "              title=\"Convert this dataframe to an interactive table.\"\n",
              "              style=\"display:none;\">\n",
              "        \n",
              "  <svg xmlns=\"http://www.w3.org/2000/svg\" height=\"24px\"viewBox=\"0 0 24 24\"\n",
              "       width=\"24px\">\n",
              "    <path d=\"M0 0h24v24H0V0z\" fill=\"none\"/>\n",
              "    <path d=\"M18.56 5.44l.94 2.06.94-2.06 2.06-.94-2.06-.94-.94-2.06-.94 2.06-2.06.94zm-11 1L8.5 8.5l.94-2.06 2.06-.94-2.06-.94L8.5 2.5l-.94 2.06-2.06.94zm10 10l.94 2.06.94-2.06 2.06-.94-2.06-.94-.94-2.06-.94 2.06-2.06.94z\"/><path d=\"M17.41 7.96l-1.37-1.37c-.4-.4-.92-.59-1.43-.59-.52 0-1.04.2-1.43.59L10.3 9.45l-7.72 7.72c-.78.78-.78 2.05 0 2.83L4 21.41c.39.39.9.59 1.41.59.51 0 1.02-.2 1.41-.59l7.78-7.78 2.81-2.81c.8-.78.8-2.07 0-2.86zM5.41 20L4 18.59l7.72-7.72 1.47 1.35L5.41 20z\"/>\n",
              "  </svg>\n",
              "      </button>\n",
              "      \n",
              "  <style>\n",
              "    .colab-df-container {\n",
              "      display:flex;\n",
              "      flex-wrap:wrap;\n",
              "      gap: 12px;\n",
              "    }\n",
              "\n",
              "    .colab-df-convert {\n",
              "      background-color: #E8F0FE;\n",
              "      border: none;\n",
              "      border-radius: 50%;\n",
              "      cursor: pointer;\n",
              "      display: none;\n",
              "      fill: #1967D2;\n",
              "      height: 32px;\n",
              "      padding: 0 0 0 0;\n",
              "      width: 32px;\n",
              "    }\n",
              "\n",
              "    .colab-df-convert:hover {\n",
              "      background-color: #E2EBFA;\n",
              "      box-shadow: 0px 1px 2px rgba(60, 64, 67, 0.3), 0px 1px 3px 1px rgba(60, 64, 67, 0.15);\n",
              "      fill: #174EA6;\n",
              "    }\n",
              "\n",
              "    [theme=dark] .colab-df-convert {\n",
              "      background-color: #3B4455;\n",
              "      fill: #D2E3FC;\n",
              "    }\n",
              "\n",
              "    [theme=dark] .colab-df-convert:hover {\n",
              "      background-color: #434B5C;\n",
              "      box-shadow: 0px 1px 3px 1px rgba(0, 0, 0, 0.15);\n",
              "      filter: drop-shadow(0px 1px 2px rgba(0, 0, 0, 0.3));\n",
              "      fill: #FFFFFF;\n",
              "    }\n",
              "  </style>\n",
              "\n",
              "      <script>\n",
              "        const buttonEl =\n",
              "          document.querySelector('#df-e9b0de83-364e-4646-ac0f-ffec574a8354 button.colab-df-convert');\n",
              "        buttonEl.style.display =\n",
              "          google.colab.kernel.accessAllowed ? 'block' : 'none';\n",
              "\n",
              "        async function convertToInteractive(key) {\n",
              "          const element = document.querySelector('#df-e9b0de83-364e-4646-ac0f-ffec574a8354');\n",
              "          const dataTable =\n",
              "            await google.colab.kernel.invokeFunction('convertToInteractive',\n",
              "                                                     [key], {});\n",
              "          if (!dataTable) return;\n",
              "\n",
              "          const docLinkHtml = 'Like what you see? Visit the ' +\n",
              "            '<a target=\"_blank\" href=https://colab.research.google.com/notebooks/data_table.ipynb>data table notebook</a>'\n",
              "            + ' to learn more about interactive tables.';\n",
              "          element.innerHTML = '';\n",
              "          dataTable['output_type'] = 'display_data';\n",
              "          await google.colab.output.renderOutput(dataTable, element);\n",
              "          const docLink = document.createElement('div');\n",
              "          docLink.innerHTML = docLinkHtml;\n",
              "          element.appendChild(docLink);\n",
              "        }\n",
              "      </script>\n",
              "    </div>\n",
              "  </div>\n",
              "  "
            ]
          },
          "metadata": {},
          "execution_count": 6
        }
      ],
      "source": [
        "# To know unique values and frequencies of each feature\n",
        "mp_data.describe().T"
      ]
    },
    {
      "cell_type": "markdown",
      "metadata": {
        "id": "fGUYhXMz0j7l"
      },
      "source": [
        "**Observation:**\n",
        "- Total 25000 rows of data.\n",
        "- No null or missing values.\n",
        "- All features are catagorical except Patient_ID which is non relevent."
      ]
    },
    {
      "cell_type": "code",
      "execution_count": null,
      "metadata": {
        "colab": {
          "base_uri": "https://localhost:8080/"
        },
        "id": "M_ikUZ8lNWk3",
        "outputId": "81df3a12-592d-455a-ece1-f2e0678ad959"
      },
      "outputs": [
        {
          "output_type": "stream",
          "name": "stdout",
          "text": [
            "                                Rectal Pain  Sore Throat  Penile Oedema  \\\n",
            "Rectal Pain                        1.000000     0.006214       0.005312   \n",
            "Sore Throat                        0.006214     1.000000       0.009082   \n",
            "Penile Oedema                      0.005312     0.009082       1.000000   \n",
            "Oral Lesions                       0.007747    -0.000795       0.003850   \n",
            "Solitary Lesion                    0.001147    -0.003609       0.002781   \n",
            "Swollen Tonsils                    0.002113    -0.002011       0.000536   \n",
            "HIV Infection                      0.005764     0.000771       0.003620   \n",
            "Sexually Transmitted Infection     0.000666    -0.001901      -0.005722   \n",
            "\n",
            "                                Oral Lesions  Solitary Lesion  \\\n",
            "Rectal Pain                         0.007747         0.001147   \n",
            "Sore Throat                        -0.000795        -0.003609   \n",
            "Penile Oedema                       0.003850         0.002781   \n",
            "Oral Lesions                        1.000000        -0.005198   \n",
            "Solitary Lesion                    -0.005198         1.000000   \n",
            "Swollen Tonsils                    -0.007757         0.002874   \n",
            "HIV Infection                      -0.012153        -0.002335   \n",
            "Sexually Transmitted Infection     -0.002725         0.009849   \n",
            "\n",
            "                                Swollen Tonsils  HIV Infection  \\\n",
            "Rectal Pain                            0.002113       0.005764   \n",
            "Sore Throat                           -0.002011       0.000771   \n",
            "Penile Oedema                          0.000536       0.003620   \n",
            "Oral Lesions                          -0.007757      -0.012153   \n",
            "Solitary Lesion                        0.002874      -0.002335   \n",
            "Swollen Tonsils                        1.000000      -0.004258   \n",
            "HIV Infection                         -0.004258       1.000000   \n",
            "Sexually Transmitted Infection        -0.006469       0.001309   \n",
            "\n",
            "                                Sexually Transmitted Infection  \n",
            "Rectal Pain                                           0.000666  \n",
            "Sore Throat                                          -0.001901  \n",
            "Penile Oedema                                        -0.005722  \n",
            "Oral Lesions                                         -0.002725  \n",
            "Solitary Lesion                                       0.009849  \n",
            "Swollen Tonsils                                      -0.006469  \n",
            "HIV Infection                                         0.001309  \n",
            "Sexually Transmitted Infection                        1.000000  \n"
          ]
        }
      ],
      "source": [
        "# correlation between features\n",
        "corr = mp_data.corr()\n",
        "print(corr)"
      ]
    },
    {
      "cell_type": "code",
      "execution_count": null,
      "metadata": {
        "colab": {
          "base_uri": "https://localhost:8080/",
          "height": 622
        },
        "id": "LBPrkrgkNDtD",
        "outputId": "4ef6b12c-7f0e-487b-8f0e-473514725cc4"
      },
      "outputs": [
        {
          "output_type": "display_data",
          "data": {
            "text/plain": [
              "<Figure size 720x576 with 2 Axes>"
            ],
            "image/png": "[encoded data removed]"
          },
          "metadata": {
            "needs_background": "light"
          }
        }
      ],
      "source": [
        "import warnings\n",
        "import seaborn as sns\n",
        "import matplotlib.pyplot as plt\n",
        "\n",
        "## Figure size\n",
        "plt.figure(figsize = (10,8))\n",
        "\n",
        "## Heatmap\n",
        "sns.heatmap(corr, annot = True, cmap = \"coolwarm\")\n",
        "plt.xticks(rotation = 70)\n",
        "plt.show()"
      ]
    },
    {
      "cell_type": "markdown",
      "metadata": {
        "id": "Bh26WU47rjiQ"
      },
      "source": [
        "**Observation** - Though weakly correlated, we can see that hiv_infection feature is most correlated to target variavle, then rectal_pain, then STD and so on."
      ]
    },
    {
      "cell_type": "markdown",
      "metadata": {
        "id": "M7mOkn6Pv_mQ"
      },
      "source": [
        "Now plotting some graphs to know about the distribution of features in the dataset."
      ]
    },
    {
      "cell_type": "code",
      "execution_count": null,
      "metadata": {
        "colab": {
          "base_uri": "https://localhost:8080/",
          "height": 330
        },
        "id": "aizVzlWkvrlA",
        "outputId": "a2f3f9bf-82c3-4f8b-9b50-13abe73dd76f"
      },
      "outputs": [
        {
          "output_type": "execute_result",
          "data": {
            "text/plain": [
              "Positive    15909\n",
              "Negative     9091\n",
              "Name: MonkeyPox, dtype: int64"
            ]
          },
          "metadata": {},
          "execution_count": 9
        },
        {
          "output_type": "display_data",
          "data": {
            "text/plain": [
              "<Figure size 432x288 with 1 Axes>"
            ],
            "image/png": "[encoded data removed]"
          },
          "metadata": {
            "needs_background": "light"
          }
        }
      ],
      "source": [
        "# target variable plot\n",
        "warnings.filterwarnings(\"ignore\")\n",
        "sns.countplot(mp_data[\"MonkeyPox\"], palette = 'RdPu_r')\n",
        "mp_data.MonkeyPox.value_counts()"
      ]
    },
    {
      "cell_type": "markdown",
      "metadata": {
        "id": "xMlaT1OBwZ7s"
      },
      "source": [
        "**Observation**: Here we can see that the target variable is unbalanced. 15909 Positives and 9091 Negatives.\n",
        "\n",
        "Now, we will see the distribution of every feature in respect to target variable below:"
      ]
    },
    {
      "cell_type": "code",
      "execution_count": null,
      "metadata": {
        "colab": {
          "base_uri": "https://localhost:8080/",
          "height": 453
        },
        "id": "PiSOsg8mwXwn",
        "outputId": "67b936cc-c161-4816-c04e-4af98e8fabcd"
      },
      "outputs": [
        {
          "output_type": "execute_result",
          "data": {
            "text/plain": [
              "Systemic Illness       MonkeyPox\n",
              "Fever                  Negative     1602\n",
              "                       Positive     4780\n",
              "Muscle Aches and Pain  Negative     2926\n",
              "                       Positive     3224\n",
              "None                   Negative     2892\n",
              "                       Positive     3324\n",
              "Swollen Lymph Nodes    Negative     1671\n",
              "                       Positive     4581\n",
              "Name: Systemic Illness, dtype: int64"
            ]
          },
          "metadata": {},
          "execution_count": 10
        },
        {
          "output_type": "display_data",
          "data": {
            "text/plain": [
              "<Figure size 432x288 with 1 Axes>"
            ],
            "image/png": "[encoded data removed]"
          },
          "metadata": {
            "needs_background": "light"
          }
        }
      ],
      "source": [
        "sns.countplot(x=mp_data['Systemic Illness'], hue=mp_data['MonkeyPox'], palette = 'RdPu_r')\n",
        "\n",
        "mp_data.groupby(by=['Systemic Illness','MonkeyPox'])['Systemic Illness'].count()"
      ]
    },
    {
      "cell_type": "code",
      "execution_count": null,
      "metadata": {
        "colab": {
          "base_uri": "https://localhost:8080/",
          "height": 381
        },
        "id": "UN3Y86f50K-X",
        "outputId": "6f55e645-39c7-4fae-ae80-92bda810f61c"
      },
      "outputs": [
        {
          "output_type": "execute_result",
          "data": {
            "text/plain": [
              "Rectal Pain  MonkeyPox\n",
              "False        Negative     5448\n",
              "             Positive     7207\n",
              "True         Negative     3643\n",
              "             Positive     8702\n",
              "Name: Rectal Pain, dtype: int64"
            ]
          },
          "metadata": {},
          "execution_count": 11
        },
        {
          "output_type": "display_data",
          "data": {
            "text/plain": [
              "<Figure size 432x288 with 1 Axes>"
            ],
            "image/png": "[encoded data removed]"
          },
          "metadata": {
            "needs_background": "light"
          }
        }
      ],
      "source": [
        "sns.countplot(x=mp_data['Rectal Pain'], hue=mp_data['MonkeyPox'], palette = 'RdPu_r')\n",
        "mp_data.groupby(by=['Rectal Pain','MonkeyPox'])['Rectal Pain'].count()"
      ]
    },
    {
      "cell_type": "code",
      "execution_count": null,
      "metadata": {
        "colab": {
          "base_uri": "https://localhost:8080/",
          "height": 381
        },
        "id": "ka2WXMiDFIVo",
        "outputId": "683edd3f-2d2c-4cf0-df97-48b617598438"
      },
      "outputs": [
        {
          "output_type": "execute_result",
          "data": {
            "text/plain": [
              "Sore Throat  MonkeyPox\n",
              "False        Negative     4907\n",
              "             Positive     7539\n",
              "True         Negative     4184\n",
              "             Positive     8370\n",
              "Name: Sore Throat, dtype: int64"
            ]
          },
          "metadata": {},
          "execution_count": 12
        },
        {
          "output_type": "display_data",
          "data": {
            "text/plain": [
              "<Figure size 432x288 with 1 Axes>"
            ],
            "image/png": "[encoded data removed]"
          },
          "metadata": {
            "needs_background": "light"
          }
        }
      ],
      "source": [
        "sns.countplot(x=mp_data['Sore Throat'], hue=mp_data['MonkeyPox'], palette = 'RdPu_r')\n",
        "mp_data.groupby(by=['Sore Throat','MonkeyPox'])['Sore Throat'].count()"
      ]
    },
    {
      "cell_type": "code",
      "execution_count": null,
      "metadata": {
        "colab": {
          "base_uri": "https://localhost:8080/",
          "height": 381
        },
        "id": "obbUwTdJFV6z",
        "outputId": "1bf15341-2a08-4f6a-bcda-922d04966387"
      },
      "outputs": [
        {
          "output_type": "execute_result",
          "data": {
            "text/plain": [
              "Penile Oedema  MonkeyPox\n",
              "False          Negative     4877\n",
              "               Positive     7511\n",
              "True           Negative     4214\n",
              "               Positive     8398\n",
              "Name: Penile Oedema, dtype: int64"
            ]
          },
          "metadata": {},
          "execution_count": 13
        },
        {
          "output_type": "display_data",
          "data": {
            "text/plain": [
              "<Figure size 432x288 with 1 Axes>"
            ],
            "image/png": "[encoded data removed]"
          },
          "metadata": {
            "needs_background": "light"
          }
        }
      ],
      "source": [
        "sns.countplot(x=mp_data['Penile Oedema'], hue=mp_data['MonkeyPox'], palette = 'RdPu_r')\n",
        "mp_data.groupby(by=['Penile Oedema','MonkeyPox'])['Penile Oedema'].count()"
      ]
    },
    {
      "cell_type": "code",
      "execution_count": null,
      "metadata": {
        "colab": {
          "base_uri": "https://localhost:8080/",
          "height": 381
        },
        "id": "zUJOlA93Fiyo",
        "outputId": "8fba0431-e1e5-40b8-c0b0-f326b82becd2"
      },
      "outputs": [
        {
          "output_type": "execute_result",
          "data": {
            "text/plain": [
              "Oral Lesions  MonkeyPox\n",
              "False         Negative     4863\n",
              "              Positive     7651\n",
              "True          Negative     4228\n",
              "              Positive     8258\n",
              "Name: Oral Lesions, dtype: int64"
            ]
          },
          "metadata": {},
          "execution_count": 14
        },
        {
          "output_type": "display_data",
          "data": {
            "text/plain": [
              "<Figure size 432x288 with 1 Axes>"
            ],
            "image/png": "[encoded data removed]"
          },
          "metadata": {
            "needs_background": "light"
          }
        }
      ],
      "source": [
        "sns.countplot(x=mp_data['Oral Lesions'], hue=mp_data['MonkeyPox'], palette = 'RdPu_r')\n",
        "mp_data.groupby(by=['Oral Lesions','MonkeyPox'])['Oral Lesions'].count()"
      ]
    },
    {
      "cell_type": "code",
      "execution_count": null,
      "metadata": {
        "colab": {
          "base_uri": "https://localhost:8080/",
          "height": 381
        },
        "id": "UHT041VaGEXQ",
        "outputId": "93405c64-2e39-444a-c750-9aad18389a72"
      },
      "outputs": [
        {
          "output_type": "execute_result",
          "data": {
            "text/plain": [
              "Solitary Lesion  MonkeyPox\n",
              "False            Negative     4761\n",
              "                 Positive     7712\n",
              "True             Negative     4330\n",
              "                 Positive     8197\n",
              "Name: Solitary Lesion, dtype: int64"
            ]
          },
          "metadata": {},
          "execution_count": 15
        },
        {
          "output_type": "display_data",
          "data": {
            "text/plain": [
              "<Figure size 432x288 with 1 Axes>"
            ],
            "image/png": "[encoded data removed]"
          },
          "metadata": {
            "needs_background": "light"
          }
        }
      ],
      "source": [
        "sns.countplot(x=mp_data['Solitary Lesion'], hue=mp_data['MonkeyPox'], palette = 'RdPu_r')\n",
        "mp_data.groupby(by=['Solitary Lesion','MonkeyPox'])['Solitary Lesion'].count()"
      ]
    },
    {
      "cell_type": "code",
      "execution_count": null,
      "metadata": {
        "colab": {
          "base_uri": "https://localhost:8080/",
          "height": 381
        },
        "id": "rl3IKmL-GKaY",
        "outputId": "58311a7e-461c-4524-bd5e-6777b78b5681"
      },
      "outputs": [
        {
          "output_type": "execute_result",
          "data": {
            "text/plain": [
              "Swollen Tonsils  MonkeyPox\n",
              "False            Negative     4613\n",
              "                 Positive     7854\n",
              "True             Negative     4478\n",
              "                 Positive     8055\n",
              "Name: Swollen Tonsils, dtype: int64"
            ]
          },
          "metadata": {},
          "execution_count": 16
        },
        {
          "output_type": "display_data",
          "data": {
            "text/plain": [
              "<Figure size 432x288 with 1 Axes>"
            ],
            "image/png": "[encoded data removed]"
          },
          "metadata": {
            "needs_background": "light"
          }
        }
      ],
      "source": [
        "sns.countplot(x=mp_data['Swollen Tonsils'], hue=mp_data['MonkeyPox'], palette = 'RdPu_r')\n",
        "mp_data.groupby(by=['Swollen Tonsils','MonkeyPox'])['Swollen Tonsils'].count()"
      ]
    },
    {
      "cell_type": "code",
      "execution_count": null,
      "metadata": {
        "colab": {
          "base_uri": "https://localhost:8080/",
          "height": 381
        },
        "id": "GeN_lRQQGL2G",
        "outputId": "ad89852e-7a17-406d-974a-8f108a00e496"
      },
      "outputs": [
        {
          "output_type": "execute_result",
          "data": {
            "text/plain": [
              "HIV Infection  MonkeyPox\n",
              "False          Negative     5394\n",
              "               Positive     7022\n",
              "True           Negative     3697\n",
              "               Positive     8887\n",
              "Name: HIV Infection, dtype: int64"
            ]
          },
          "metadata": {},
          "execution_count": 17
        },
        {
          "output_type": "display_data",
          "data": {
            "text/plain": [
              "<Figure size 432x288 with 1 Axes>"
            ],
            "image/png": "[encoded data removed]"
          },
          "metadata": {
            "needs_background": "light"
          }
        }
      ],
      "source": [
        "sns.countplot(x=mp_data['HIV Infection'], hue=mp_data['MonkeyPox'], palette = 'RdPu_r')\n",
        "mp_data.groupby(by=['HIV Infection','MonkeyPox'])['HIV Infection'].count()"
      ]
    },
    {
      "cell_type": "code",
      "execution_count": null,
      "metadata": {
        "colab": {
          "base_uri": "https://localhost:8080/",
          "height": 381
        },
        "id": "2iaVdlrSGVTl",
        "outputId": "e2c909e6-ba22-45c8-82b9-509b3dcf8f9c"
      },
      "outputs": [
        {
          "output_type": "execute_result",
          "data": {
            "text/plain": [
              "Sexually Transmitted Infection  MonkeyPox\n",
              "False                           Negative     5307\n",
              "                                Positive     7247\n",
              "True                            Negative     3784\n",
              "                                Positive     8662\n",
              "Name: Sexually Transmitted Infection, dtype: int64"
            ]
          },
          "metadata": {},
          "execution_count": 18
        },
        {
          "output_type": "display_data",
          "data": {
            "text/plain": [
              "<Figure size 432x288 with 1 Axes>"
            ],
            "image/png": "[encoded data removed]"
          },
          "metadata": {
            "needs_background": "light"
          }
        }
      ],
      "source": [
        "sns.countplot(x=mp_data['Sexually Transmitted Infection'], hue=mp_data['MonkeyPox'], palette = 'RdPu_r')\n",
        "mp_data.groupby(by=['Sexually Transmitted Infection','MonkeyPox'])['Sexually Transmitted Infection'].count()"
      ]
    },
    {
      "cell_type": "markdown",
      "metadata": {
        "id": "iHfrKfwCb7lx"
      },
      "source": [
        "**Observation:** \n",
        "- All the features are equally balanced.\n",
        "- Target column is imbalanced.\n",
        "- The distribution of data with respect to target is symetrically spead with the features."
      ]
    },
    {
      "cell_type": "markdown",
      "metadata": {
        "id": "QGGLMiR2y2aM"
      },
      "source": [
        "# Preprocessing the data."
      ]
    },
    {
      "cell_type": "code",
      "execution_count": null,
      "metadata": {
        "colab": {
          "base_uri": "https://localhost:8080/",
          "height": 282
        },
        "id": "Hld13-Th9Ov5",
        "outputId": "7e03a184-7323-494b-e309-1e4c155bb9d4"
      },
      "outputs": [
        {
          "output_type": "execute_result",
          "data": {
            "text/plain": [
              "  Patient_ID     Systemic Illness  Rectal Pain  Sore Throat  Penile Oedema  \\\n",
              "0         P0                 None            0            1              1   \n",
              "1         P1                Fever            1            0              1   \n",
              "2         P2                Fever            0            1              1   \n",
              "3         P3                 None            1            0              0   \n",
              "4         P4  Swollen Lymph Nodes            1            1              1   \n",
              "\n",
              "   Oral Lesions  Solitary Lesion  Swollen Tonsils  HIV Infection  \\\n",
              "0             1                0                1              0   \n",
              "1             1                0                0              1   \n",
              "2             0                0                0              1   \n",
              "3             0                1                1              1   \n",
              "4             0                0                1              1   \n",
              "\n",
              "   Sexually Transmitted Infection  MonkeyPox  \n",
              "0                               0          0  \n",
              "1                               0          1  \n",
              "2                               0          1  \n",
              "3                               0          1  \n",
              "4                               0          1  "
            ],
            "text/html": [
              "\n",
              "  <div id=\"df-11973783-0266-4ff3-9530-476e7e4d55c7\">\n",
              "    <div class=\"colab-df-container\">\n",
              "      <div>\n",
              "<style scoped>\n",
              "    .dataframe tbody tr th:only-of-type {\n",
              "        vertical-align: middle;\n",
              "    }\n",
              "\n",
              "    .dataframe tbody tr th {\n",
              "        vertical-align: top;\n",
              "    }\n",
              "\n",
              "    .dataframe thead th {\n",
              "        text-align: right;\n",
              "    }\n",
              "</style>\n",
              "<table border=\"1\" class=\"dataframe\">\n",
              "  <thead>\n",
              "    <tr style=\"text-align: right;\">\n",
              "      <th></th>\n",
              "      <th>Patient_ID</th>\n",
              "      <th>Systemic Illness</th>\n",
              "      <th>Rectal Pain</th>\n",
              "      <th>Sore Throat</th>\n",
              "      <th>Penile Oedema</th>\n",
              "      <th>Oral Lesions</th>\n",
              "      <th>Solitary Lesion</th>\n",
              "      <th>Swollen Tonsils</th>\n",
              "      <th>HIV Infection</th>\n",
              "      <th>Sexually Transmitted Infection</th>\n",
              "      <th>MonkeyPox</th>\n",
              "    </tr>\n",
              "  </thead>\n",
              "  <tbody>\n",
              "    <tr>\n",
              "      <th>0</th>\n",
              "      <td>P0</td>\n",
              "      <td>None</td>\n",
              "      <td>0</td>\n",
              "      <td>1</td>\n",
              "      <td>1</td>\n",
              "      <td>1</td>\n",
              "      <td>0</td>\n",
              "      <td>1</td>\n",
              "      <td>0</td>\n",
              "      <td>0</td>\n",
              "      <td>0</td>\n",
              "    </tr>\n",
              "    <tr>\n",
              "      <th>1</th>\n",
              "      <td>P1</td>\n",
              "      <td>Fever</td>\n",
              "      <td>1</td>\n",
              "      <td>0</td>\n",
              "      <td>1</td>\n",
              "      <td>1</td>\n",
              "      <td>0</td>\n",
              "      <td>0</td>\n",
              "      <td>1</td>\n",
              "      <td>0</td>\n",
              "      <td>1</td>\n",
              "    </tr>\n",
              "    <tr>\n",
              "      <th>2</th>\n",
              "      <td>P2</td>\n",
              "      <td>Fever</td>\n",
              "      <td>0</td>\n",
              "      <td>1</td>\n",
              "      <td>1</td>\n",
              "      <td>0</td>\n",
              "      <td>0</td>\n",
              "      <td>0</td>\n",
              "      <td>1</td>\n",
              "      <td>0</td>\n",
              "      <td>1</td>\n",
              "    </tr>\n",
              "    <tr>\n",
              "      <th>3</th>\n",
              "      <td>P3</td>\n",
              "      <td>None</td>\n",
              "      <td>1</td>\n",
              "      <td>0</td>\n",
              "      <td>0</td>\n",
              "      <td>0</td>\n",
              "      <td>1</td>\n",
              "      <td>1</td>\n",
              "      <td>1</td>\n",
              "      <td>0</td>\n",
              "      <td>1</td>\n",
              "    </tr>\n",
              "    <tr>\n",
              "      <th>4</th>\n",
              "      <td>P4</td>\n",
              "      <td>Swollen Lymph Nodes</td>\n",
              "      <td>1</td>\n",
              "      <td>1</td>\n",
              "      <td>1</td>\n",
              "      <td>0</td>\n",
              "      <td>0</td>\n",
              "      <td>1</td>\n",
              "      <td>1</td>\n",
              "      <td>0</td>\n",
              "      <td>1</td>\n",
              "    </tr>\n",
              "  </tbody>\n",
              "</table>\n",
              "</div>\n",
              "      <button class=\"colab-df-convert\" onclick=\"convertToInteractive('df-11973783-0266-4ff3-9530-476e7e4d55c7')\"\n",
              "              title=\"Convert this dataframe to an interactive table.\"\n",
              "              style=\"display:none;\">\n",
              "        \n",
              "  <svg xmlns=\"http://www.w3.org/2000/svg\" height=\"24px\"viewBox=\"0 0 24 24\"\n",
              "       width=\"24px\">\n",
              "    <path d=\"M0 0h24v24H0V0z\" fill=\"none\"/>\n",
              "    <path d=\"M18.56 5.44l.94 2.06.94-2.06 2.06-.94-2.06-.94-.94-2.06-.94 2.06-2.06.94zm-11 1L8.5 8.5l.94-2.06 2.06-.94-2.06-.94L8.5 2.5l-.94 2.06-2.06.94zm10 10l.94 2.06.94-2.06 2.06-.94-2.06-.94-.94-2.06-.94 2.06-2.06.94z\"/><path d=\"M17.41 7.96l-1.37-1.37c-.4-.4-.92-.59-1.43-.59-.52 0-1.04.2-1.43.59L10.3 9.45l-7.72 7.72c-.78.78-.78 2.05 0 2.83L4 21.41c.39.39.9.59 1.41.59.51 0 1.02-.2 1.41-.59l7.78-7.78 2.81-2.81c.8-.78.8-2.07 0-2.86zM5.41 20L4 18.59l7.72-7.72 1.47 1.35L5.41 20z\"/>\n",
              "  </svg>\n",
              "      </button>\n",
              "      \n",
              "  <style>\n",
              "    .colab-df-container {\n",
              "      display:flex;\n",
              "      flex-wrap:wrap;\n",
              "      gap: 12px;\n",
              "    }\n",
              "\n",
              "    .colab-df-convert {\n",
              "      background-color: #E8F0FE;\n",
              "      border: none;\n",
              "      border-radius: 50%;\n",
              "      cursor: pointer;\n",
              "      display: none;\n",
              "      fill: #1967D2;\n",
              "      height: 32px;\n",
              "      padding: 0 0 0 0;\n",
              "      width: 32px;\n",
              "    }\n",
              "\n",
              "    .colab-df-convert:hover {\n",
              "      background-color: #E2EBFA;\n",
              "      box-shadow: 0px 1px 2px rgba(60, 64, 67, 0.3), 0px 1px 3px 1px rgba(60, 64, 67, 0.15);\n",
              "      fill: #174EA6;\n",
              "    }\n",
              "\n",
              "    [theme=dark] .colab-df-convert {\n",
              "      background-color: #3B4455;\n",
              "      fill: #D2E3FC;\n",
              "    }\n",
              "\n",
              "    [theme=dark] .colab-df-convert:hover {\n",
              "      background-color: #434B5C;\n",
              "      box-shadow: 0px 1px 3px 1px rgba(0, 0, 0, 0.15);\n",
              "      filter: drop-shadow(0px 1px 2px rgba(0, 0, 0, 0.3));\n",
              "      fill: #FFFFFF;\n",
              "    }\n",
              "  </style>\n",
              "\n",
              "      <script>\n",
              "        const buttonEl =\n",
              "          document.querySelector('#df-11973783-0266-4ff3-9530-476e7e4d55c7 button.colab-df-convert');\n",
              "        buttonEl.style.display =\n",
              "          google.colab.kernel.accessAllowed ? 'block' : 'none';\n",
              "\n",
              "        async function convertToInteractive(key) {\n",
              "          const element = document.querySelector('#df-11973783-0266-4ff3-9530-476e7e4d55c7');\n",
              "          const dataTable =\n",
              "            await google.colab.kernel.invokeFunction('convertToInteractive',\n",
              "                                                     [key], {});\n",
              "          if (!dataTable) return;\n",
              "\n",
              "          const docLinkHtml = 'Like what you see? Visit the ' +\n",
              "            '<a target=\"_blank\" href=https://colab.research.google.com/notebooks/data_table.ipynb>data table notebook</a>'\n",
              "            + ' to learn more about interactive tables.';\n",
              "          element.innerHTML = '';\n",
              "          dataTable['output_type'] = 'display_data';\n",
              "          await google.colab.output.renderOutput(dataTable, element);\n",
              "          const docLink = document.createElement('div');\n",
              "          docLink.innerHTML = docLinkHtml;\n",
              "          element.appendChild(docLink);\n",
              "        }\n",
              "      </script>\n",
              "    </div>\n",
              "  </div>\n",
              "  "
            ]
          },
          "metadata": {},
          "execution_count": 19
        }
      ],
      "source": [
        "# making data numeric\n",
        "mp_data = mp_data.replace([\"Positive\", \"Negative\", True, False], [1,0,1,0])\n",
        "mp_data.head()\n"
      ]
    },
    {
      "cell_type": "code",
      "execution_count": null,
      "metadata": {
        "colab": {
          "base_uri": "https://localhost:8080/",
          "height": 204
        },
        "id": "24SqOE8fDr48",
        "outputId": "d428138b-9373-42e8-c6e0-3afe233f4172"
      },
      "outputs": [
        {
          "output_type": "execute_result",
          "data": {
            "text/plain": [
              "      Systemic Illness  Rectal Pain  Sore Throat  Penile Oedema  Oral Lesions  \\\n",
              "0                 None            0            1              1             1   \n",
              "1                Fever            1            0              1             1   \n",
              "2                Fever            0            1              1             0   \n",
              "3                 None            1            0              0             0   \n",
              "4  Swollen Lymph Nodes            1            1              1             0   \n",
              "\n",
              "   Solitary Lesion  Swollen Tonsils  HIV Infection  \\\n",
              "0                0                1              0   \n",
              "1                0                0              1   \n",
              "2                0                0              1   \n",
              "3                1                1              1   \n",
              "4                0                1              1   \n",
              "\n",
              "   Sexually Transmitted Infection  \n",
              "0                               0  \n",
              "1                               0  \n",
              "2                               0  \n",
              "3                               0  \n",
              "4                               0  "
            ],
            "text/html": [
              "\n",
              "  <div id=\"df-4e073c11-cefa-451d-86bd-47f54bd558d9\">\n",
              "    <div class=\"colab-df-container\">\n",
              "      <div>\n",
              "<style scoped>\n",
              "    .dataframe tbody tr th:only-of-type {\n",
              "        vertical-align: middle;\n",
              "    }\n",
              "\n",
              "    .dataframe tbody tr th {\n",
              "        vertical-align: top;\n",
              "    }\n",
              "\n",
              "    .dataframe thead th {\n",
              "        text-align: right;\n",
              "    }\n",
              "</style>\n",
              "<table border=\"1\" class=\"dataframe\">\n",
              "  <thead>\n",
              "    <tr style=\"text-align: right;\">\n",
              "      <th></th>\n",
              "      <th>Systemic Illness</th>\n",
              "      <th>Rectal Pain</th>\n",
              "      <th>Sore Throat</th>\n",
              "      <th>Penile Oedema</th>\n",
              "      <th>Oral Lesions</th>\n",
              "      <th>Solitary Lesion</th>\n",
              "      <th>Swollen Tonsils</th>\n",
              "      <th>HIV Infection</th>\n",
              "      <th>Sexually Transmitted Infection</th>\n",
              "    </tr>\n",
              "  </thead>\n",
              "  <tbody>\n",
              "    <tr>\n",
              "      <th>0</th>\n",
              "      <td>None</td>\n",
              "      <td>0</td>\n",
              "      <td>1</td>\n",
              "      <td>1</td>\n",
              "      <td>1</td>\n",
              "      <td>0</td>\n",
              "      <td>1</td>\n",
              "      <td>0</td>\n",
              "      <td>0</td>\n",
              "    </tr>\n",
              "    <tr>\n",
              "      <th>1</th>\n",
              "      <td>Fever</td>\n",
              "      <td>1</td>\n",
              "      <td>0</td>\n",
              "      <td>1</td>\n",
              "      <td>1</td>\n",
              "      <td>0</td>\n",
              "      <td>0</td>\n",
              "      <td>1</td>\n",
              "      <td>0</td>\n",
              "    </tr>\n",
              "    <tr>\n",
              "      <th>2</th>\n",
              "      <td>Fever</td>\n",
              "      <td>0</td>\n",
              "      <td>1</td>\n",
              "      <td>1</td>\n",
              "      <td>0</td>\n",
              "      <td>0</td>\n",
              "      <td>0</td>\n",
              "      <td>1</td>\n",
              "      <td>0</td>\n",
              "    </tr>\n",
              "    <tr>\n",
              "      <th>3</th>\n",
              "      <td>None</td>\n",
              "      <td>1</td>\n",
              "      <td>0</td>\n",
              "      <td>0</td>\n",
              "      <td>0</td>\n",
              "      <td>1</td>\n",
              "      <td>1</td>\n",
              "      <td>1</td>\n",
              "      <td>0</td>\n",
              "    </tr>\n",
              "    <tr>\n",
              "      <th>4</th>\n",
              "      <td>Swollen Lymph Nodes</td>\n",
              "      <td>1</td>\n",
              "      <td>1</td>\n",
              "      <td>1</td>\n",
              "      <td>0</td>\n",
              "      <td>0</td>\n",
              "      <td>1</td>\n",
              "      <td>1</td>\n",
              "      <td>0</td>\n",
              "    </tr>\n",
              "  </tbody>\n",
              "</table>\n",
              "</div>\n",
              "      <button class=\"colab-df-convert\" onclick=\"convertToInteractive('df-4e073c11-cefa-451d-86bd-47f54bd558d9')\"\n",
              "              title=\"Convert this dataframe to an interactive table.\"\n",
              "              style=\"display:none;\">\n",
              "        \n",
              "  <svg xmlns=\"http://www.w3.org/2000/svg\" height=\"24px\"viewBox=\"0 0 24 24\"\n",
              "       width=\"24px\">\n",
              "    <path d=\"M0 0h24v24H0V0z\" fill=\"none\"/>\n",
              "    <path d=\"M18.56 5.44l.94 2.06.94-2.06 2.06-.94-2.06-.94-.94-2.06-.94 2.06-2.06.94zm-11 1L8.5 8.5l.94-2.06 2.06-.94-2.06-.94L8.5 2.5l-.94 2.06-2.06.94zm10 10l.94 2.06.94-2.06 2.06-.94-2.06-.94-.94-2.06-.94 2.06-2.06.94z\"/><path d=\"M17.41 7.96l-1.37-1.37c-.4-.4-.92-.59-1.43-.59-.52 0-1.04.2-1.43.59L10.3 9.45l-7.72 7.72c-.78.78-.78 2.05 0 2.83L4 21.41c.39.39.9.59 1.41.59.51 0 1.02-.2 1.41-.59l7.78-7.78 2.81-2.81c.8-.78.8-2.07 0-2.86zM5.41 20L4 18.59l7.72-7.72 1.47 1.35L5.41 20z\"/>\n",
              "  </svg>\n",
              "      </button>\n",
              "      \n",
              "  <style>\n",
              "    .colab-df-container {\n",
              "      display:flex;\n",
              "      flex-wrap:wrap;\n",
              "      gap: 12px;\n",
              "    }\n",
              "\n",
              "    .colab-df-convert {\n",
              "      background-color: #E8F0FE;\n",
              "      border: none;\n",
              "      border-radius: 50%;\n",
              "      cursor: pointer;\n",
              "      display: none;\n",
              "      fill: #1967D2;\n",
              "      height: 32px;\n",
              "      padding: 0 0 0 0;\n",
              "      width: 32px;\n",
              "    }\n",
              "\n",
              "    .colab-df-convert:hover {\n",
              "      background-color: #E2EBFA;\n",
              "      box-shadow: 0px 1px 2px rgba(60, 64, 67, 0.3), 0px 1px 3px 1px rgba(60, 64, 67, 0.15);\n",
              "      fill: #174EA6;\n",
              "    }\n",
              "\n",
              "    [theme=dark] .colab-df-convert {\n",
              "      background-color: #3B4455;\n",
              "      fill: #D2E3FC;\n",
              "    }\n",
              "\n",
              "    [theme=dark] .colab-df-convert:hover {\n",
              "      background-color: #434B5C;\n",
              "      box-shadow: 0px 1px 3px 1px rgba(0, 0, 0, 0.15);\n",
              "      filter: drop-shadow(0px 1px 2px rgba(0, 0, 0, 0.3));\n",
              "      fill: #FFFFFF;\n",
              "    }\n",
              "  </style>\n",
              "\n",
              "      <script>\n",
              "        const buttonEl =\n",
              "          document.querySelector('#df-4e073c11-cefa-451d-86bd-47f54bd558d9 button.colab-df-convert');\n",
              "        buttonEl.style.display =\n",
              "          google.colab.kernel.accessAllowed ? 'block' : 'none';\n",
              "\n",
              "        async function convertToInteractive(key) {\n",
              "          const element = document.querySelector('#df-4e073c11-cefa-451d-86bd-47f54bd558d9');\n",
              "          const dataTable =\n",
              "            await google.colab.kernel.invokeFunction('convertToInteractive',\n",
              "                                                     [key], {});\n",
              "          if (!dataTable) return;\n",
              "\n",
              "          const docLinkHtml = 'Like what you see? Visit the ' +\n",
              "            '<a target=\"_blank\" href=https://colab.research.google.com/notebooks/data_table.ipynb>data table notebook</a>'\n",
              "            + ' to learn more about interactive tables.';\n",
              "          element.innerHTML = '';\n",
              "          dataTable['output_type'] = 'display_data';\n",
              "          await google.colab.output.renderOutput(dataTable, element);\n",
              "          const docLink = document.createElement('div');\n",
              "          docLink.innerHTML = docLinkHtml;\n",
              "          element.appendChild(docLink);\n",
              "        }\n",
              "      </script>\n",
              "    </div>\n",
              "  </div>\n",
              "  "
            ]
          },
          "metadata": {},
          "execution_count": 20
        }
      ],
      "source": [
        "# Removing first and last columns\n",
        "data_X = mp_data.drop([\"MonkeyPox\", \"Patient_ID\"], axis = 1)\n",
        "data_X.head()"
      ]
    },
    {
      "cell_type": "code",
      "execution_count": null,
      "metadata": {
        "colab": {
          "base_uri": "https://localhost:8080/",
          "height": 248
        },
        "id": "mt7AUOPXQ2z8",
        "outputId": "ed121273-62d2-42b3-a05b-169acd07f5d6"
      },
      "outputs": [
        {
          "output_type": "execute_result",
          "data": {
            "text/plain": [
              "          Systemic Illness  Rectal Pain  Sore Throat  Penile Oedema  \\\n",
              "24995                 None            1            1              0   \n",
              "24996                Fever            0            1              1   \n",
              "24997                 None            1            1              0   \n",
              "24998  Swollen Lymph Nodes            0            1              0   \n",
              "24999  Swollen Lymph Nodes            0            0              1   \n",
              "\n",
              "       Oral Lesions  Solitary Lesion  Swollen Tonsils  HIV Infection  \\\n",
              "24995             1                1                0              0   \n",
              "24996             0                1                1              1   \n",
              "24997             0                1                1              0   \n",
              "24998             1                1                1              0   \n",
              "24999             0                0                1              1   \n",
              "\n",
              "       Sexually Transmitted Infection  \n",
              "24995                               1  \n",
              "24996                               1  \n",
              "24997                               0  \n",
              "24998                               0  \n",
              "24999                               0  "
            ],
            "text/html": [
              "\n",
              "  <div id=\"df-2d9178e2-0902-4308-b654-98bd6daf14fb\">\n",
              "    <div class=\"colab-df-container\">\n",
              "      <div>\n",
              "<style scoped>\n",
              "    .dataframe tbody tr th:only-of-type {\n",
              "        vertical-align: middle;\n",
              "    }\n",
              "\n",
              "    .dataframe tbody tr th {\n",
              "        vertical-align: top;\n",
              "    }\n",
              "\n",
              "    .dataframe thead th {\n",
              "        text-align: right;\n",
              "    }\n",
              "</style>\n",
              "<table border=\"1\" class=\"dataframe\">\n",
              "  <thead>\n",
              "    <tr style=\"text-align: right;\">\n",
              "      <th></th>\n",
              "      <th>Systemic Illness</th>\n",
              "      <th>Rectal Pain</th>\n",
              "      <th>Sore Throat</th>\n",
              "      <th>Penile Oedema</th>\n",
              "      <th>Oral Lesions</th>\n",
              "      <th>Solitary Lesion</th>\n",
              "      <th>Swollen Tonsils</th>\n",
              "      <th>HIV Infection</th>\n",
              "      <th>Sexually Transmitted Infection</th>\n",
              "    </tr>\n",
              "  </thead>\n",
              "  <tbody>\n",
              "    <tr>\n",
              "      <th>24995</th>\n",
              "      <td>None</td>\n",
              "      <td>1</td>\n",
              "      <td>1</td>\n",
              "      <td>0</td>\n",
              "      <td>1</td>\n",
              "      <td>1</td>\n",
              "      <td>0</td>\n",
              "      <td>0</td>\n",
              "      <td>1</td>\n",
              "    </tr>\n",
              "    <tr>\n",
              "      <th>24996</th>\n",
              "      <td>Fever</td>\n",
              "      <td>0</td>\n",
              "      <td>1</td>\n",
              "      <td>1</td>\n",
              "      <td>0</td>\n",
              "      <td>1</td>\n",
              "      <td>1</td>\n",
              "      <td>1</td>\n",
              "      <td>1</td>\n",
              "    </tr>\n",
              "    <tr>\n",
              "      <th>24997</th>\n",
              "      <td>None</td>\n",
              "      <td>1</td>\n",
              "      <td>1</td>\n",
              "      <td>0</td>\n",
              "      <td>0</td>\n",
              "      <td>1</td>\n",
              "      <td>1</td>\n",
              "      <td>0</td>\n",
              "      <td>0</td>\n",
              "    </tr>\n",
              "    <tr>\n",
              "      <th>24998</th>\n",
              "      <td>Swollen Lymph Nodes</td>\n",
              "      <td>0</td>\n",
              "      <td>1</td>\n",
              "      <td>0</td>\n",
              "      <td>1</td>\n",
              "      <td>1</td>\n",
              "      <td>1</td>\n",
              "      <td>0</td>\n",
              "      <td>0</td>\n",
              "    </tr>\n",
              "    <tr>\n",
              "      <th>24999</th>\n",
              "      <td>Swollen Lymph Nodes</td>\n",
              "      <td>0</td>\n",
              "      <td>0</td>\n",
              "      <td>1</td>\n",
              "      <td>0</td>\n",
              "      <td>0</td>\n",
              "      <td>1</td>\n",
              "      <td>1</td>\n",
              "      <td>0</td>\n",
              "    </tr>\n",
              "  </tbody>\n",
              "</table>\n",
              "</div>\n",
              "      <button class=\"colab-df-convert\" onclick=\"convertToInteractive('df-2d9178e2-0902-4308-b654-98bd6daf14fb')\"\n",
              "              title=\"Convert this dataframe to an interactive table.\"\n",
              "              style=\"display:none;\">\n",
              "        \n",
              "  <svg xmlns=\"http://www.w3.org/2000/svg\" height=\"24px\"viewBox=\"0 0 24 24\"\n",
              "       width=\"24px\">\n",
              "    <path d=\"M0 0h24v24H0V0z\" fill=\"none\"/>\n",
              "    <path d=\"M18.56 5.44l.94 2.06.94-2.06 2.06-.94-2.06-.94-.94-2.06-.94 2.06-2.06.94zm-11 1L8.5 8.5l.94-2.06 2.06-.94-2.06-.94L8.5 2.5l-.94 2.06-2.06.94zm10 10l.94 2.06.94-2.06 2.06-.94-2.06-.94-.94-2.06-.94 2.06-2.06.94z\"/><path d=\"M17.41 7.96l-1.37-1.37c-.4-.4-.92-.59-1.43-.59-.52 0-1.04.2-1.43.59L10.3 9.45l-7.72 7.72c-.78.78-.78 2.05 0 2.83L4 21.41c.39.39.9.59 1.41.59.51 0 1.02-.2 1.41-.59l7.78-7.78 2.81-2.81c.8-.78.8-2.07 0-2.86zM5.41 20L4 18.59l7.72-7.72 1.47 1.35L5.41 20z\"/>\n",
              "  </svg>\n",
              "      </button>\n",
              "      \n",
              "  <style>\n",
              "    .colab-df-container {\n",
              "      display:flex;\n",
              "      flex-wrap:wrap;\n",
              "      gap: 12px;\n",
              "    }\n",
              "\n",
              "    .colab-df-convert {\n",
              "      background-color: #E8F0FE;\n",
              "      border: none;\n",
              "      border-radius: 50%;\n",
              "      cursor: pointer;\n",
              "      display: none;\n",
              "      fill: #1967D2;\n",
              "      height: 32px;\n",
              "      padding: 0 0 0 0;\n",
              "      width: 32px;\n",
              "    }\n",
              "\n",
              "    .colab-df-convert:hover {\n",
              "      background-color: #E2EBFA;\n",
              "      box-shadow: 0px 1px 2px rgba(60, 64, 67, 0.3), 0px 1px 3px 1px rgba(60, 64, 67, 0.15);\n",
              "      fill: #174EA6;\n",
              "    }\n",
              "\n",
              "    [theme=dark] .colab-df-convert {\n",
              "      background-color: #3B4455;\n",
              "      fill: #D2E3FC;\n",
              "    }\n",
              "\n",
              "    [theme=dark] .colab-df-convert:hover {\n",
              "      background-color: #434B5C;\n",
              "      box-shadow: 0px 1px 3px 1px rgba(0, 0, 0, 0.15);\n",
              "      filter: drop-shadow(0px 1px 2px rgba(0, 0, 0, 0.3));\n",
              "      fill: #FFFFFF;\n",
              "    }\n",
              "  </style>\n",
              "\n",
              "      <script>\n",
              "        const buttonEl =\n",
              "          document.querySelector('#df-2d9178e2-0902-4308-b654-98bd6daf14fb button.colab-df-convert');\n",
              "        buttonEl.style.display =\n",
              "          google.colab.kernel.accessAllowed ? 'block' : 'none';\n",
              "\n",
              "        async function convertToInteractive(key) {\n",
              "          const element = document.querySelector('#df-2d9178e2-0902-4308-b654-98bd6daf14fb');\n",
              "          const dataTable =\n",
              "            await google.colab.kernel.invokeFunction('convertToInteractive',\n",
              "                                                     [key], {});\n",
              "          if (!dataTable) return;\n",
              "\n",
              "          const docLinkHtml = 'Like what you see? Visit the ' +\n",
              "            '<a target=\"_blank\" href=https://colab.research.google.com/notebooks/data_table.ipynb>data table notebook</a>'\n",
              "            + ' to learn more about interactive tables.';\n",
              "          element.innerHTML = '';\n",
              "          dataTable['output_type'] = 'display_data';\n",
              "          await google.colab.output.renderOutput(dataTable, element);\n",
              "          const docLink = document.createElement('div');\n",
              "          docLink.innerHTML = docLinkHtml;\n",
              "          element.appendChild(docLink);\n",
              "        }\n",
              "      </script>\n",
              "    </div>\n",
              "  </div>\n",
              "  "
            ]
          },
          "metadata": {},
          "execution_count": 21
        }
      ],
      "source": [
        "data_X.tail()"
      ]
    },
    {
      "cell_type": "code",
      "execution_count": null,
      "metadata": {
        "colab": {
          "base_uri": "https://localhost:8080/",
          "height": 282
        },
        "id": "zlMdtkFDYr7m",
        "outputId": "58dd0167-729e-4b6d-eb7d-8cf5aaa8f782"
      },
      "outputs": [
        {
          "output_type": "execute_result",
          "data": {
            "text/plain": [
              "   Rectal Pain  Sore Throat  Penile Oedema  Oral Lesions  Solitary Lesion  \\\n",
              "0            0            1              1             1                0   \n",
              "1            1            0              1             1                0   \n",
              "2            0            1              1             0                0   \n",
              "3            1            0              0             0                1   \n",
              "4            1            1              1             0                0   \n",
              "\n",
              "   Swollen Tonsils  HIV Infection  Sexually Transmitted Infection  \\\n",
              "0                1              0                               0   \n",
              "1                0              1                               0   \n",
              "2                0              1                               0   \n",
              "3                1              1                               0   \n",
              "4                1              1                               0   \n",
              "\n",
              "   Systemic Illness_Muscle Aches and Pain  Systemic Illness_None  \\\n",
              "0                                       0                      1   \n",
              "1                                       0                      0   \n",
              "2                                       0                      0   \n",
              "3                                       0                      1   \n",
              "4                                       0                      0   \n",
              "\n",
              "   Systemic Illness_Swollen Lymph Nodes  \n",
              "0                                     0  \n",
              "1                                     0  \n",
              "2                                     0  \n",
              "3                                     0  \n",
              "4                                     1  "
            ],
            "text/html": [
              "\n",
              "  <div id=\"df-5a041390-699b-4d37-a3ef-5466d12724e9\">\n",
              "    <div class=\"colab-df-container\">\n",
              "      <div>\n",
              "<style scoped>\n",
              "    .dataframe tbody tr th:only-of-type {\n",
              "        vertical-align: middle;\n",
              "    }\n",
              "\n",
              "    .dataframe tbody tr th {\n",
              "        vertical-align: top;\n",
              "    }\n",
              "\n",
              "    .dataframe thead th {\n",
              "        text-align: right;\n",
              "    }\n",
              "</style>\n",
              "<table border=\"1\" class=\"dataframe\">\n",
              "  <thead>\n",
              "    <tr style=\"text-align: right;\">\n",
              "      <th></th>\n",
              "      <th>Rectal Pain</th>\n",
              "      <th>Sore Throat</th>\n",
              "      <th>Penile Oedema</th>\n",
              "      <th>Oral Lesions</th>\n",
              "      <th>Solitary Lesion</th>\n",
              "      <th>Swollen Tonsils</th>\n",
              "      <th>HIV Infection</th>\n",
              "      <th>Sexually Transmitted Infection</th>\n",
              "      <th>Systemic Illness_Muscle Aches and Pain</th>\n",
              "      <th>Systemic Illness_None</th>\n",
              "      <th>Systemic Illness_Swollen Lymph Nodes</th>\n",
              "    </tr>\n",
              "  </thead>\n",
              "  <tbody>\n",
              "    <tr>\n",
              "      <th>0</th>\n",
              "      <td>0</td>\n",
              "      <td>1</td>\n",
              "      <td>1</td>\n",
              "      <td>1</td>\n",
              "      <td>0</td>\n",
              "      <td>1</td>\n",
              "      <td>0</td>\n",
              "      <td>0</td>\n",
              "      <td>0</td>\n",
              "      <td>1</td>\n",
              "      <td>0</td>\n",
              "    </tr>\n",
              "    <tr>\n",
              "      <th>1</th>\n",
              "      <td>1</td>\n",
              "      <td>0</td>\n",
              "      <td>1</td>\n",
              "      <td>1</td>\n",
              "      <td>0</td>\n",
              "      <td>0</td>\n",
              "      <td>1</td>\n",
              "      <td>0</td>\n",
              "      <td>0</td>\n",
              "      <td>0</td>\n",
              "      <td>0</td>\n",
              "    </tr>\n",
              "    <tr>\n",
              "      <th>2</th>\n",
              "      <td>0</td>\n",
              "      <td>1</td>\n",
              "      <td>1</td>\n",
              "      <td>0</td>\n",
              "      <td>0</td>\n",
              "      <td>0</td>\n",
              "      <td>1</td>\n",
              "      <td>0</td>\n",
              "      <td>0</td>\n",
              "      <td>0</td>\n",
              "      <td>0</td>\n",
              "    </tr>\n",
              "    <tr>\n",
              "      <th>3</th>\n",
              "      <td>1</td>\n",
              "      <td>0</td>\n",
              "      <td>0</td>\n",
              "      <td>0</td>\n",
              "      <td>1</td>\n",
              "      <td>1</td>\n",
              "      <td>1</td>\n",
              "      <td>0</td>\n",
              "      <td>0</td>\n",
              "      <td>1</td>\n",
              "      <td>0</td>\n",
              "    </tr>\n",
              "    <tr>\n",
              "      <th>4</th>\n",
              "      <td>1</td>\n",
              "      <td>1</td>\n",
              "      <td>1</td>\n",
              "      <td>0</td>\n",
              "      <td>0</td>\n",
              "      <td>1</td>\n",
              "      <td>1</td>\n",
              "      <td>0</td>\n",
              "      <td>0</td>\n",
              "      <td>0</td>\n",
              "      <td>1</td>\n",
              "    </tr>\n",
              "  </tbody>\n",
              "</table>\n",
              "</div>\n",
              "      <button class=\"colab-df-convert\" onclick=\"convertToInteractive('df-5a041390-699b-4d37-a3ef-5466d12724e9')\"\n",
              "              title=\"Convert this dataframe to an interactive table.\"\n",
              "              style=\"display:none;\">\n",
              "        \n",
              "  <svg xmlns=\"http://www.w3.org/2000/svg\" height=\"24px\"viewBox=\"0 0 24 24\"\n",
              "       width=\"24px\">\n",
              "    <path d=\"M0 0h24v24H0V0z\" fill=\"none\"/>\n",
              "    <path d=\"M18.56 5.44l.94 2.06.94-2.06 2.06-.94-2.06-.94-.94-2.06-.94 2.06-2.06.94zm-11 1L8.5 8.5l.94-2.06 2.06-.94-2.06-.94L8.5 2.5l-.94 2.06-2.06.94zm10 10l.94 2.06.94-2.06 2.06-.94-2.06-.94-.94-2.06-.94 2.06-2.06.94z\"/><path d=\"M17.41 7.96l-1.37-1.37c-.4-.4-.92-.59-1.43-.59-.52 0-1.04.2-1.43.59L10.3 9.45l-7.72 7.72c-.78.78-.78 2.05 0 2.83L4 21.41c.39.39.9.59 1.41.59.51 0 1.02-.2 1.41-.59l7.78-7.78 2.81-2.81c.8-.78.8-2.07 0-2.86zM5.41 20L4 18.59l7.72-7.72 1.47 1.35L5.41 20z\"/>\n",
              "  </svg>\n",
              "      </button>\n",
              "      \n",
              "  <style>\n",
              "    .colab-df-container {\n",
              "      display:flex;\n",
              "      flex-wrap:wrap;\n",
              "      gap: 12px;\n",
              "    }\n",
              "\n",
              "    .colab-df-convert {\n",
              "      background-color: #E8F0FE;\n",
              "      border: none;\n",
              "      border-radius: 50%;\n",
              "      cursor: pointer;\n",
              "      display: none;\n",
              "      fill: #1967D2;\n",
              "      height: 32px;\n",
              "      padding: 0 0 0 0;\n",
              "      width: 32px;\n",
              "    }\n",
              "\n",
              "    .colab-df-convert:hover {\n",
              "      background-color: #E2EBFA;\n",
              "      box-shadow: 0px 1px 2px rgba(60, 64, 67, 0.3), 0px 1px 3px 1px rgba(60, 64, 67, 0.15);\n",
              "      fill: #174EA6;\n",
              "    }\n",
              "\n",
              "    [theme=dark] .colab-df-convert {\n",
              "      background-color: #3B4455;\n",
              "      fill: #D2E3FC;\n",
              "    }\n",
              "\n",
              "    [theme=dark] .colab-df-convert:hover {\n",
              "      background-color: #434B5C;\n",
              "      box-shadow: 0px 1px 3px 1px rgba(0, 0, 0, 0.15);\n",
              "      filter: drop-shadow(0px 1px 2px rgba(0, 0, 0, 0.3));\n",
              "      fill: #FFFFFF;\n",
              "    }\n",
              "  </style>\n",
              "\n",
              "      <script>\n",
              "        const buttonEl =\n",
              "          document.querySelector('#df-5a041390-699b-4d37-a3ef-5466d12724e9 button.colab-df-convert');\n",
              "        buttonEl.style.display =\n",
              "          google.colab.kernel.accessAllowed ? 'block' : 'none';\n",
              "\n",
              "        async function convertToInteractive(key) {\n",
              "          const element = document.querySelector('#df-5a041390-699b-4d37-a3ef-5466d12724e9');\n",
              "          const dataTable =\n",
              "            await google.colab.kernel.invokeFunction('convertToInteractive',\n",
              "                                                     [key], {});\n",
              "          if (!dataTable) return;\n",
              "\n",
              "          const docLinkHtml = 'Like what you see? Visit the ' +\n",
              "            '<a target=\"_blank\" href=https://colab.research.google.com/notebooks/data_table.ipynb>data table notebook</a>'\n",
              "            + ' to learn more about interactive tables.';\n",
              "          element.innerHTML = '';\n",
              "          dataTable['output_type'] = 'display_data';\n",
              "          await google.colab.output.renderOutput(dataTable, element);\n",
              "          const docLink = document.createElement('div');\n",
              "          docLink.innerHTML = docLinkHtml;\n",
              "          element.appendChild(docLink);\n",
              "        }\n",
              "      </script>\n",
              "    </div>\n",
              "  </div>\n",
              "  "
            ]
          },
          "metadata": {},
          "execution_count": 22
        }
      ],
      "source": [
        "# transforming catagorical feature 'Systemic Illness' \n",
        "\n",
        "data_X_final = pd.get_dummies(data_X, drop_first = True)\n",
        "data_X_final.head()"
      ]
    },
    {
      "cell_type": "code",
      "execution_count": null,
      "metadata": {
        "colab": {
          "base_uri": "https://localhost:8080/"
        },
        "id": "K8WklrtrwzSS",
        "outputId": "b9959900-f179-49ae-8f4b-1c7522392118"
      },
      "outputs": [
        {
          "output_type": "execute_result",
          "data": {
            "text/plain": [
              "0    0\n",
              "1    1\n",
              "2    1\n",
              "3    1\n",
              "4    1\n",
              "Name: MonkeyPox, dtype: int64"
            ]
          },
          "metadata": {},
          "execution_count": 23
        }
      ],
      "source": [
        "# set of target variables\n",
        "data_y = mp_data[\"MonkeyPox\"]\n",
        "data_y.head()"
      ]
    },
    {
      "cell_type": "code",
      "execution_count": null,
      "metadata": {
        "id": "k-xsCsUUHsfw"
      },
      "outputs": [],
      "source": [
        "# A fucntion for calculation of evaluation criteria\n",
        "\n",
        "from sklearn.metrics import accuracy_score, precision_score, recall_score, f1_score,confusion_matrix\n",
        "def validation(test,pred):\n",
        "    print('Confusion matrix \\n', confusion_matrix(test,pred))\n",
        "    print('Accuracy: ', accuracy_score(test,pred))\n",
        "    print('Recall :',recall_score(test,pred))\n",
        "    print('Precision :', precision_score(test,pred))\n",
        "    print('F1 score :', f1_score(test,pred))\n"
      ]
    },
    {
      "cell_type": "markdown",
      "metadata": {
        "id": "MptS-bj8ZKHs"
      },
      "source": [
        "## 1. Perceptron Classifier:"
      ]
    },
    {
      "cell_type": "markdown",
      "metadata": {
        "id": "0nztySuRzELA"
      },
      "source": [
        "We will be using Perceptron algorithm of scikit-learn python library. Here, we are using 10-Fold cross validation on entire data which we prepared and then we will check the accuracy of model. After that we will try to tune hyperparameters to see the effects on accuracy."
      ]
    },
    {
      "cell_type": "code",
      "execution_count": null,
      "metadata": {
        "colab": {
          "base_uri": "https://localhost:8080/"
        },
        "id": "jwHaF4hgc2Km",
        "outputId": "2feb9228-7512-4606-f9df-f9c19c96aa1f"
      },
      "outputs": [
        {
          "output_type": "stream",
          "name": "stdout",
          "text": [
            "Mean Accuracy: 0.593 \n"
          ]
        }
      ],
      "source": [
        "#import for perceptron model\n",
        "from sklearn.linear_model import Perceptron\n",
        "\n",
        "#import for N-fold cross validation\n",
        "from sklearn.model_selection import cross_val_score\n",
        "from sklearn.model_selection import RepeatedStratifiedKFold\n",
        "\n",
        "# import for numpy functions\n",
        "from numpy import mean\n",
        "from numpy import std\n",
        "\n",
        "# defining  Perceptron model, learning rate is 1.0\n",
        "model = Perceptron(eta0=1.0)\n",
        "\n",
        "# we are using 10-Fold cross validation method\n",
        "cv = RepeatedStratifiedKFold(n_splits=10, n_repeats=3, random_state=1)\n",
        "\n",
        "scores = cross_val_score(model, data_X_final, data_y, scoring='accuracy', cv=cv, n_jobs=-1)\n",
        "# summarize result\n",
        "print('Mean Accuracy: %.3f ' % (mean(scores)))"
      ]
    },
    {
      "cell_type": "markdown",
      "metadata": {
        "id": "h0XmT7nyxrS7"
      },
      "source": [
        "As we can see here Accuracy of Perceptron model comes to be nealy 60%  which is little less. We will try to tune parameters and see how our result gets effected."
      ]
    },
    {
      "cell_type": "code",
      "execution_count": null,
      "metadata": {
        "colab": {
          "base_uri": "https://localhost:8080/"
        },
        "id": "vnW-8H8hyicv",
        "outputId": "1996583a-0b94-43fe-ef88-87faefff25fb"
      },
      "outputs": [
        {
          "output_type": "stream",
          "name": "stdout",
          "text": [
            "Accuracy : 0.594 with: {'eta0': 0.0001}\n",
            "Accuracy : 0.592 with: {'eta0': 0.001}\n",
            "Accuracy : 0.583 with: {'eta0': 0.01}\n",
            "Accuracy : 0.590 with: {'eta0': 0.1}\n",
            "Accuracy : 0.593 with: {'eta0': 1.0}\n",
            "Mean best Accuracy: 0.594\n"
          ]
        }
      ],
      "source": [
        "# we will be testing 5 values of learning rate(hyperparameter)\n",
        "\n",
        "#here we are using GridSearchCV class instead of cross_val_score. So importing\n",
        "from sklearn.model_selection import GridSearchCV\n",
        "\n",
        "grid = dict()\n",
        "grid['eta0'] = [0.0001, 0.001, 0.01, 0.1, 1.0]\n",
        "\n",
        "cv = RepeatedStratifiedKFold(n_splits=10, n_repeats=3, random_state=1)\n",
        "search = GridSearchCV(model, grid, scoring='accuracy', cv=cv, n_jobs=-1)\n",
        "\n",
        "results = search.fit(data_X_final, data_y)\n",
        "\n",
        "means = results.cv_results_['mean_test_score']\n",
        "params = results.cv_results_['params']\n",
        "for mean, param in zip(means, params):\n",
        "    print(\"Accuracy : %.3f with: %r\" % (mean, param))\n",
        "\n",
        "print('Mean best Accuracy: %.3f' % (results.best_score_ ))"
      ]
    },
    {
      "cell_type": "markdown",
      "metadata": {
        "id": "XyIUtKHC47DB"
      },
      "source": [
        "**Analysis** : We can see that for smallest learning rate 0.001 we have the best score. Hence, large learning rate can cause the model to learn fast, but accuracy is lower. A smaller learning rate can result in a better-performing model but may take a long time to train the model.\n",
        "\n",
        "Reference : https://machinelearningmastery.com/perceptron-algorithm-for-classification-in-python/\n"
      ]
    },
    {
      "cell_type": "markdown",
      "metadata": {
        "id": "ZFOvON8664w9"
      },
      "source": [
        "## 2. SVM Classifier"
      ]
    },
    {
      "cell_type": "code",
      "execution_count": null,
      "metadata": {
        "colab": {
          "base_uri": "https://localhost:8080/",
          "height": 350
        },
        "id": "gLZ5rA1x6_U8",
        "outputId": "72a87dd7-c79c-4edd-9b2b-7d33b606f314"
      },
      "outputs": [
        {
          "output_type": "stream",
          "name": "stdout",
          "text": [
            "(20000, 11)\n",
            "(20000,)\n",
            "(5000, 11)\n",
            "(5000,)\n"
          ]
        },
        {
          "output_type": "execute_result",
          "data": {
            "text/plain": [
              "       Rectal Pain  Sore Throat  Penile Oedema  Oral Lesions  Solitary Lesion  \\\n",
              "10953            0            1              0             1                0   \n",
              "16650            1            1              1             0                0   \n",
              "24366            1            1              0             1                1   \n",
              "19566            0            0              0             1                1   \n",
              "13280            0            1              1             0                1   \n",
              "\n",
              "       Swollen Tonsils  HIV Infection  Sexually Transmitted Infection  \\\n",
              "10953                1              0                               1   \n",
              "16650                1              1                               1   \n",
              "24366                1              1                               1   \n",
              "19566                1              1                               1   \n",
              "13280                0              0                               0   \n",
              "\n",
              "       Systemic Illness_Muscle Aches and Pain  Systemic Illness_None  \\\n",
              "10953                                       0                      0   \n",
              "16650                                       0                      0   \n",
              "24366                                       0                      0   \n",
              "19566                                       1                      0   \n",
              "13280                                       0                      1   \n",
              "\n",
              "       Systemic Illness_Swollen Lymph Nodes  \n",
              "10953                                     0  \n",
              "16650                                     0  \n",
              "24366                                     0  \n",
              "19566                                     0  \n",
              "13280                                     0  "
            ],
            "text/html": [
              "\n",
              "  <div id=\"df-5ba1a411-37d5-482c-a54f-28d7c6220bc0\">\n",
              "    <div class=\"colab-df-container\">\n",
              "      <div>\n",
              "<style scoped>\n",
              "    .dataframe tbody tr th:only-of-type {\n",
              "        vertical-align: middle;\n",
              "    }\n",
              "\n",
              "    .dataframe tbody tr th {\n",
              "        vertical-align: top;\n",
              "    }\n",
              "\n",
              "    .dataframe thead th {\n",
              "        text-align: right;\n",
              "    }\n",
              "</style>\n",
              "<table border=\"1\" class=\"dataframe\">\n",
              "  <thead>\n",
              "    <tr style=\"text-align: right;\">\n",
              "      <th></th>\n",
              "      <th>Rectal Pain</th>\n",
              "      <th>Sore Throat</th>\n",
              "      <th>Penile Oedema</th>\n",
              "      <th>Oral Lesions</th>\n",
              "      <th>Solitary Lesion</th>\n",
              "      <th>Swollen Tonsils</th>\n",
              "      <th>HIV Infection</th>\n",
              "      <th>Sexually Transmitted Infection</th>\n",
              "      <th>Systemic Illness_Muscle Aches and Pain</th>\n",
              "      <th>Systemic Illness_None</th>\n",
              "      <th>Systemic Illness_Swollen Lymph Nodes</th>\n",
              "    </tr>\n",
              "  </thead>\n",
              "  <tbody>\n",
              "    <tr>\n",
              "      <th>10953</th>\n",
              "      <td>0</td>\n",
              "      <td>1</td>\n",
              "      <td>0</td>\n",
              "      <td>1</td>\n",
              "      <td>0</td>\n",
              "      <td>1</td>\n",
              "      <td>0</td>\n",
              "      <td>1</td>\n",
              "      <td>0</td>\n",
              "      <td>0</td>\n",
              "      <td>0</td>\n",
              "    </tr>\n",
              "    <tr>\n",
              "      <th>16650</th>\n",
              "      <td>1</td>\n",
              "      <td>1</td>\n",
              "      <td>1</td>\n",
              "      <td>0</td>\n",
              "      <td>0</td>\n",
              "      <td>1</td>\n",
              "      <td>1</td>\n",
              "      <td>1</td>\n",
              "      <td>0</td>\n",
              "      <td>0</td>\n",
              "      <td>0</td>\n",
              "    </tr>\n",
              "    <tr>\n",
              "      <th>24366</th>\n",
              "      <td>1</td>\n",
              "      <td>1</td>\n",
              "      <td>0</td>\n",
              "      <td>1</td>\n",
              "      <td>1</td>\n",
              "      <td>1</td>\n",
              "      <td>1</td>\n",
              "      <td>1</td>\n",
              "      <td>0</td>\n",
              "      <td>0</td>\n",
              "      <td>0</td>\n",
              "    </tr>\n",
              "    <tr>\n",
              "      <th>19566</th>\n",
              "      <td>0</td>\n",
              "      <td>0</td>\n",
              "      <td>0</td>\n",
              "      <td>1</td>\n",
              "      <td>1</td>\n",
              "      <td>1</td>\n",
              "      <td>1</td>\n",
              "      <td>1</td>\n",
              "      <td>1</td>\n",
              "      <td>0</td>\n",
              "      <td>0</td>\n",
              "    </tr>\n",
              "    <tr>\n",
              "      <th>13280</th>\n",
              "      <td>0</td>\n",
              "      <td>1</td>\n",
              "      <td>1</td>\n",
              "      <td>0</td>\n",
              "      <td>1</td>\n",
              "      <td>0</td>\n",
              "      <td>0</td>\n",
              "      <td>0</td>\n",
              "      <td>0</td>\n",
              "      <td>1</td>\n",
              "      <td>0</td>\n",
              "    </tr>\n",
              "  </tbody>\n",
              "</table>\n",
              "</div>\n",
              "      <button class=\"colab-df-convert\" onclick=\"convertToInteractive('df-5ba1a411-37d5-482c-a54f-28d7c6220bc0')\"\n",
              "              title=\"Convert this dataframe to an interactive table.\"\n",
              "              style=\"display:none;\">\n",
              "        \n",
              "  <svg xmlns=\"http://www.w3.org/2000/svg\" height=\"24px\"viewBox=\"0 0 24 24\"\n",
              "       width=\"24px\">\n",
              "    <path d=\"M0 0h24v24H0V0z\" fill=\"none\"/>\n",
              "    <path d=\"M18.56 5.44l.94 2.06.94-2.06 2.06-.94-2.06-.94-.94-2.06-.94 2.06-2.06.94zm-11 1L8.5 8.5l.94-2.06 2.06-.94-2.06-.94L8.5 2.5l-.94 2.06-2.06.94zm10 10l.94 2.06.94-2.06 2.06-.94-2.06-.94-.94-2.06-.94 2.06-2.06.94z\"/><path d=\"M17.41 7.96l-1.37-1.37c-.4-.4-.92-.59-1.43-.59-.52 0-1.04.2-1.43.59L10.3 9.45l-7.72 7.72c-.78.78-.78 2.05 0 2.83L4 21.41c.39.39.9.59 1.41.59.51 0 1.02-.2 1.41-.59l7.78-7.78 2.81-2.81c.8-.78.8-2.07 0-2.86zM5.41 20L4 18.59l7.72-7.72 1.47 1.35L5.41 20z\"/>\n",
              "  </svg>\n",
              "      </button>\n",
              "      \n",
              "  <style>\n",
              "    .colab-df-container {\n",
              "      display:flex;\n",
              "      flex-wrap:wrap;\n",
              "      gap: 12px;\n",
              "    }\n",
              "\n",
              "    .colab-df-convert {\n",
              "      background-color: #E8F0FE;\n",
              "      border: none;\n",
              "      border-radius: 50%;\n",
              "      cursor: pointer;\n",
              "      display: none;\n",
              "      fill: #1967D2;\n",
              "      height: 32px;\n",
              "      padding: 0 0 0 0;\n",
              "      width: 32px;\n",
              "    }\n",
              "\n",
              "    .colab-df-convert:hover {\n",
              "      background-color: #E2EBFA;\n",
              "      box-shadow: 0px 1px 2px rgba(60, 64, 67, 0.3), 0px 1px 3px 1px rgba(60, 64, 67, 0.15);\n",
              "      fill: #174EA6;\n",
              "    }\n",
              "\n",
              "    [theme=dark] .colab-df-convert {\n",
              "      background-color: #3B4455;\n",
              "      fill: #D2E3FC;\n",
              "    }\n",
              "\n",
              "    [theme=dark] .colab-df-convert:hover {\n",
              "      background-color: #434B5C;\n",
              "      box-shadow: 0px 1px 3px 1px rgba(0, 0, 0, 0.15);\n",
              "      filter: drop-shadow(0px 1px 2px rgba(0, 0, 0, 0.3));\n",
              "      fill: #FFFFFF;\n",
              "    }\n",
              "  </style>\n",
              "\n",
              "      <script>\n",
              "        const buttonEl =\n",
              "          document.querySelector('#df-5ba1a411-37d5-482c-a54f-28d7c6220bc0 button.colab-df-convert');\n",
              "        buttonEl.style.display =\n",
              "          google.colab.kernel.accessAllowed ? 'block' : 'none';\n",
              "\n",
              "        async function convertToInteractive(key) {\n",
              "          const element = document.querySelector('#df-5ba1a411-37d5-482c-a54f-28d7c6220bc0');\n",
              "          const dataTable =\n",
              "            await google.colab.kernel.invokeFunction('convertToInteractive',\n",
              "                                                     [key], {});\n",
              "          if (!dataTable) return;\n",
              "\n",
              "          const docLinkHtml = 'Like what you see? Visit the ' +\n",
              "            '<a target=\"_blank\" href=https://colab.research.google.com/notebooks/data_table.ipynb>data table notebook</a>'\n",
              "            + ' to learn more about interactive tables.';\n",
              "          element.innerHTML = '';\n",
              "          dataTable['output_type'] = 'display_data';\n",
              "          await google.colab.output.renderOutput(dataTable, element);\n",
              "          const docLink = document.createElement('div');\n",
              "          docLink.innerHTML = docLinkHtml;\n",
              "          element.appendChild(docLink);\n",
              "        }\n",
              "      </script>\n",
              "    </div>\n",
              "  </div>\n",
              "  "
            ]
          },
          "metadata": {},
          "execution_count": 27
        }
      ],
      "source": [
        "#Splitting the data in training and testing set.\n",
        "\n",
        "from sklearn.model_selection import train_test_split\n",
        "\n",
        "X_train, X_test, y_train, y_test = train_test_split(data_X_final, data_y, test_size = 0.2, random_state = None)\n",
        "#X_train.head()\n",
        "#y_train.head()\n",
        "print(X_train.shape)\n",
        "print(y_train.shape)\n",
        "print(X_test.shape)\n",
        "print(y_test.shape)\n",
        "X_train.head()"
      ]
    },
    {
      "cell_type": "markdown",
      "metadata": {
        "id": "FJRbfXCfhzDD"
      },
      "source": [
        "### 1.Linear SVM"
      ]
    },
    {
      "cell_type": "code",
      "execution_count": null,
      "metadata": {
        "colab": {
          "base_uri": "https://localhost:8080/"
        },
        "id": "BIFgbtdT9gN9",
        "outputId": "86c8af94-6e56-4fcb-f665-2d1ac2732561"
      },
      "outputs": [
        {
          "output_type": "stream",
          "name": "stdout",
          "text": [
            "Confusion matrix \n",
            " [[ 644 1132]\n",
            " [ 389 2835]]\n",
            "Accuracy:  0.6958\n",
            "Recall : 0.8793424317617866\n",
            "Precision : 0.7146458280816738\n",
            "F1 score : 0.7884856070087609\n"
          ]
        }
      ],
      "source": [
        "from sklearn.svm import SVC\n",
        "\n",
        "# first using linear SVM algorithm \n",
        "svclassifier = SVC(kernel='linear')\n",
        "svclassifier.fit(X_train, y_train)\n",
        "\n",
        "y_pred = svclassifier.predict(X_test)\n",
        "validation(y_test, y_pred)"
      ]
    },
    {
      "cell_type": "markdown",
      "metadata": {
        "id": "BWHr7j3oh7bX"
      },
      "source": [
        "### 2. Kernel SVM (Polynomial)"
      ]
    },
    {
      "cell_type": "code",
      "execution_count": null,
      "metadata": {
        "colab": {
          "base_uri": "https://localhost:8080/"
        },
        "id": "bipodjmjhcEV",
        "outputId": "30f0e837-3e16-4289-c2cd-6b48c5af794f"
      },
      "outputs": [
        {
          "output_type": "stream",
          "name": "stdout",
          "text": [
            "Confusion matrix \n",
            " [[ 490 1286]\n",
            " [ 258 2966]]\n",
            "Accuracy:  0.6912\n",
            "Recall : 0.9199751861042184\n",
            "Precision : 0.6975540921919097\n",
            "F1 score : 0.7934724451578383\n"
          ]
        }
      ],
      "source": [
        "from sklearn.svm import SVC\n",
        "svclassifier = SVC(kernel='poly')\n",
        "svclassifier.fit(X_train, y_train)\n",
        "y_pred = svclassifier.predict(X_test)\n",
        "\n",
        "validation(y_test, y_pred)\n"
      ]
    },
    {
      "cell_type": "markdown",
      "metadata": {
        "id": "EjkJkg2MmFjo"
      },
      "source": [
        "### 3. Kernel SVM (Sigmoid)"
      ]
    },
    {
      "cell_type": "code",
      "execution_count": null,
      "metadata": {
        "colab": {
          "base_uri": "https://localhost:8080/"
        },
        "id": "d7XwLtinmF-5",
        "outputId": "ffd667b9-739e-4df9-c322-872c9bd8c622"
      },
      "outputs": [
        {
          "output_type": "stream",
          "name": "stdout",
          "text": [
            "Confusion matrix \n",
            " [[ 650 1126]\n",
            " [1113 2111]]\n",
            "Accuracy:  0.5522\n",
            "Recall : 0.6547766749379652\n",
            "Precision : 0.6521470497374112\n",
            "F1 score : 0.6534592168394985\n"
          ]
        }
      ],
      "source": [
        "svclassifier = SVC(kernel='sigmoid')\n",
        "svclassifier.fit(X_train, y_train)\n",
        "y_pred = svclassifier.predict(X_test)\n",
        "validation(y_test, y_pred)"
      ]
    },
    {
      "cell_type": "markdown",
      "metadata": {
        "id": "2oZyCQbVl6WJ"
      },
      "source": [
        "### 4. Kernel SVM (Gaussian)"
      ]
    },
    {
      "cell_type": "code",
      "execution_count": null,
      "metadata": {
        "colab": {
          "base_uri": "https://localhost:8080/"
        },
        "id": "RsxZ93OE7oQQ",
        "outputId": "00438220-8ba1-4145-f6f8-d091663f77ae"
      },
      "outputs": [
        {
          "output_type": "stream",
          "name": "stdout",
          "text": [
            "Confusion matrix \n",
            " [[ 607 1169]\n",
            " [ 446 2778]]\n",
            "Accuracy:  0.677\n",
            "Recall : 0.8616625310173698\n",
            "Precision : 0.7038256903977704\n",
            "F1 score : 0.7747873378887185\n"
          ]
        }
      ],
      "source": [
        "from sklearn.svm import SVC\n",
        "\n",
        "svclassifier = SVC(kernel = \"rbf\", C = 100) \n",
        "svclassifier.fit(X_train, y_train)\n",
        "y_pred = svclassifier.predict(X_test)\n",
        "#y_pred_train = svclassifier.predict(X_train)\n",
        "validation(y_test, y_pred)\n",
        "#validation(y_train, y_pred_train)"
      ]
    },
    {
      "cell_type": "markdown",
      "metadata": {
        "id": "N_4hLOU5n1zD"
      },
      "source": [
        "**Observation**: \n",
        "- 1. Sigmoid kernel is worst performing.\n",
        "- 2. Linear SVM is performing best till now. Why not other complex ones like polynomial and Gaussian? \n",
        "\n",
        "Are they overfitting?\n",
        "So, let's try to adjust hyperparameters and see."
      ]
    },
    {
      "cell_type": "code",
      "execution_count": null,
      "metadata": {
        "id": "ebQ3rte0wh5r"
      },
      "outputs": [],
      "source": [
        "# we need GridSearch for this\n",
        "from sklearn.model_selection import GridSearchCV"
      ]
    },
    {
      "cell_type": "code",
      "execution_count": null,
      "metadata": {
        "id": "wnNy2_LHx-i_"
      },
      "outputs": [],
      "source": [
        "# Create a dictionary called param_grid and fill out some parameters for kernels, C is regularization.\n",
        "param_grid = {'C': [0.01, 1, 10], 'gamma': ['scale'],'kernel': ['rbf', 'poly' ]}"
      ]
    },
    {
      "cell_type": "code",
      "execution_count": null,
      "metadata": {
        "colab": {
          "base_uri": "https://localhost:8080/"
        },
        "id": "ZXq2dYlWyU2y",
        "outputId": "2a760f47-57df-4625-e7c8-0dc564979c97"
      },
      "outputs": [
        {
          "output_type": "stream",
          "name": "stdout",
          "text": [
            "Fitting 5 folds for each of 6 candidates, totalling 30 fits\n",
            "[CV] END ....................C=0.01, gamma=scale, kernel=rbf; total time=  18.0s\n",
            "[CV] END ....................C=0.01, gamma=scale, kernel=rbf; total time=  18.0s\n",
            "[CV] END ....................C=0.01, gamma=scale, kernel=rbf; total time=  17.7s\n",
            "[CV] END ....................C=0.01, gamma=scale, kernel=rbf; total time=  17.8s\n",
            "[CV] END ....................C=0.01, gamma=scale, kernel=rbf; total time=  17.8s\n",
            "[CV] END ...................C=0.01, gamma=scale, kernel=poly; total time=  11.2s\n",
            "[CV] END ...................C=0.01, gamma=scale, kernel=poly; total time=  11.2s\n",
            "[CV] END ...................C=0.01, gamma=scale, kernel=poly; total time=  11.4s\n",
            "[CV] END ...................C=0.01, gamma=scale, kernel=poly; total time=  11.1s\n",
            "[CV] END ...................C=0.01, gamma=scale, kernel=poly; total time=  11.4s\n",
            "[CV] END .......................C=1, gamma=scale, kernel=rbf; total time=  19.5s\n",
            "[CV] END .......................C=1, gamma=scale, kernel=rbf; total time=  20.3s\n",
            "[CV] END .......................C=1, gamma=scale, kernel=rbf; total time=  21.8s\n",
            "[CV] END .......................C=1, gamma=scale, kernel=rbf; total time=  19.7s\n",
            "[CV] END .......................C=1, gamma=scale, kernel=rbf; total time=  19.7s\n",
            "[CV] END ......................C=1, gamma=scale, kernel=poly; total time=  46.6s\n",
            "[CV] END ......................C=1, gamma=scale, kernel=poly; total time=  51.3s\n",
            "[CV] END ......................C=1, gamma=scale, kernel=poly; total time=  37.0s\n",
            "[CV] END ......................C=1, gamma=scale, kernel=poly; total time=  60.0s\n",
            "[CV] END ......................C=1, gamma=scale, kernel=poly; total time=  48.7s\n",
            "[CV] END ......................C=10, gamma=scale, kernel=rbf; total time=  32.8s\n",
            "[CV] END ......................C=10, gamma=scale, kernel=rbf; total time=  41.5s\n",
            "[CV] END ......................C=10, gamma=scale, kernel=rbf; total time=  35.8s\n",
            "[CV] END ......................C=10, gamma=scale, kernel=rbf; total time=  32.8s\n",
            "[CV] END ......................C=10, gamma=scale, kernel=rbf; total time=  38.7s\n",
            "[CV] END .....................C=10, gamma=scale, kernel=poly; total time= 3.0min\n",
            "[CV] END .....................C=10, gamma=scale, kernel=poly; total time= 3.5min\n",
            "[CV] END .....................C=10, gamma=scale, kernel=poly; total time= 5.2min\n",
            "[CV] END .....................C=10, gamma=scale, kernel=poly; total time= 7.7min\n",
            "[CV] END .....................C=10, gamma=scale, kernel=poly; total time= 3.9min\n"
          ]
        },
        {
          "output_type": "execute_result",
          "data": {
            "text/plain": [
              "GridSearchCV(estimator=SVC(),\n",
              "             param_grid={'C': [0.01, 1, 10], 'gamma': ['scale'],\n",
              "                         'kernel': ['rbf', 'poly']},\n",
              "             verbose=2)"
            ]
          },
          "metadata": {},
          "execution_count": 37
        }
      ],
      "source": [
        "# Create a GridSearchCV object and fit it to the training data\n",
        "grid = GridSearchCV(SVC(),param_grid,refit=True,verbose=2)\n",
        "grid.fit(X_train,y_train)"
      ]
    },
    {
      "cell_type": "code",
      "execution_count": null,
      "metadata": {
        "colab": {
          "base_uri": "https://localhost:8080/"
        },
        "id": "mNc1_FemynpP",
        "outputId": "85fee7d1-f62a-40d3-daa9-62cc72c4dd4a"
      },
      "outputs": [
        {
          "output_type": "stream",
          "name": "stdout",
          "text": [
            "SVC(C=10, kernel='poly')\n"
          ]
        }
      ],
      "source": [
        "# printing the best parameters\n",
        "print(grid.best_estimator_)"
      ]
    },
    {
      "cell_type": "markdown",
      "source": [
        "As we found out that best value for regularization parameter is 10. Let us use that on polynomial kernel model and see."
      ],
      "metadata": {
        "id": "WNHfATgahiDb"
      }
    },
    {
      "cell_type": "code",
      "source": [
        "from sklearn.svm import SVC\n",
        "\n",
        "svclassifier = SVC(kernel='poly', C=10)\n",
        "svclassifier.fit(X_train, y_train)\n",
        "y_pred = svclassifier.predict(X_test)\n",
        "\n",
        "validation(y_test, y_pred)"
      ],
      "metadata": {
        "colab": {
          "base_uri": "https://localhost:8080/"
        },
        "id": "yot2S_lnvW5R",
        "outputId": "500678a1-a7c4-406b-dd66-2fc6a0ea8030"
      },
      "execution_count": null,
      "outputs": [
        {
          "output_type": "stream",
          "name": "stdout",
          "text": [
            "Confusion matrix \n",
            " [[ 503 1273]\n",
            " [ 258 2966]]\n",
            "Accuracy:  0.6938\n",
            "Recall : 0.9199751861042184\n",
            "Precision : 0.6996933238971456\n",
            "F1 score : 0.7948546161061235\n"
          ]
        }
      ]
    },
    {
      "cell_type": "code",
      "source": [
        "from sklearn.svm import SVC\n",
        "\n",
        "svclassifier = SVC(kernel = \"rbf\", C = 10, gamma=\"scale\") \n",
        "svclassifier.fit(X_train, y_train)\n",
        "y_pred = svclassifier.predict(X_test)\n",
        "#y_pred_train = svclassifier.predict(X_train)\n",
        "validation(y_test, y_pred)\n",
        "#validation(y_train, y_pred_train)"
      ],
      "metadata": {
        "colab": {
          "base_uri": "https://localhost:8080/"
        },
        "id": "4F9fhQwPjrr0",
        "outputId": "db280f91-4f15-41be-92a1-e74938a5b29b"
      },
      "execution_count": null,
      "outputs": [
        {
          "output_type": "stream",
          "name": "stdout",
          "text": [
            "Confusion matrix \n",
            " [[ 591 1185]\n",
            " [ 389 2835]]\n",
            "Accuracy:  0.6852\n",
            "Recall : 0.8793424317617866\n",
            "Precision : 0.7052238805970149\n",
            "F1 score : 0.7827167310877968\n"
          ]
        }
      ]
    },
    {
      "cell_type": "markdown",
      "source": [
        "**Observation:**\n",
        "- the optimal value of C has increased the accuracy of Polynomial model and Gaussian model. "
      ],
      "metadata": {
        "id": "VQg7FLuBkkix"
      }
    },
    {
      "cell_type": "markdown",
      "metadata": {
        "id": "S1kBSOxt27zE"
      },
      "source": [
        "Reference: https://www.vebuso.com/2020/03/svm-hyperparameter-tuning-using-gridsearchcv/\n"
      ]
    },
    {
      "cell_type": "markdown",
      "metadata": {
        "id": "CJXdqw_V8CNd"
      },
      "source": [
        "## KNN Classifier"
      ]
    },
    {
      "cell_type": "code",
      "execution_count": null,
      "metadata": {
        "colab": {
          "base_uri": "https://localhost:8080/"
        },
        "id": "-4x93IDF8pmj",
        "outputId": "d80111a8-3079-46fa-e04f-77caa5aa6004"
      },
      "outputs": [
        {
          "output_type": "stream",
          "name": "stdout",
          "text": [
            "Confusion matrix \n",
            " [[ 735 1041]\n",
            " [ 719 2505]]\n",
            "Accuracy:  0.648\n",
            "Recall : 0.776985111662531\n",
            "Precision : 0.7064297800338409\n",
            "F1 score : 0.7400295420974888\n"
          ]
        }
      ],
      "source": [
        "from sklearn.neighbors import KNeighborsClassifier\n",
        "model_knn= KNeighborsClassifier(n_neighbors=5)\n",
        "\n",
        "model_knn.fit(X_train,y_train)\n",
        "y_pred = model_knn.predict(X_test)\n",
        "validation(y_test, y_pred)"
      ]
    },
    {
      "cell_type": "markdown",
      "metadata": {
        "id": "w1i-xenf-eQk"
      },
      "source": [
        "**Observation**: Pretty much as expected accuracy. \n",
        "\n",
        "But let's tune our hyperparameter, i.e. find the optimal K value. "
      ]
    },
    {
      "cell_type": "code",
      "execution_count": null,
      "metadata": {
        "colab": {
          "base_uri": "https://localhost:8080/"
        },
        "id": "MB7naYcb-bwM",
        "outputId": "66aeefb1-d46a-47b5-dbb2-97b1ded493d2"
      },
      "outputs": [
        {
          "output_type": "stream",
          "name": "stdout",
          "text": [
            "[0.6154, 0.5578, 0.6354, 0.6196, 0.648, 0.6304, 0.6552, 0.6494, 0.6652, 0.654, 0.6694, 0.6622, 0.6744, 0.6688, 0.6736, 0.6748, 0.6758, 0.6728, 0.6746, 0.6742, 0.6772, 0.6744, 0.6802, 0.6782, 0.6836, 0.6806, 0.6816, 0.6812, 0.684, 0.6834, 0.6818, 0.6836, 0.6862, 0.688, 0.686, 0.682, 0.6844, 0.682, 0.6848]\n"
          ]
        }
      ],
      "source": [
        "# running our model for different K values\n",
        "accuracies = []\n",
        "for i in range(1,40):\n",
        " knn = KNeighborsClassifier(n_neighbors=i)\n",
        " knn.fit(X_train,y_train)\n",
        " y_pred_i = knn.predict(X_test)\n",
        " accuracies.append(accuracy_score(y_test,y_pred_i))\n",
        "\n",
        "print(accuracies)"
      ]
    },
    {
      "cell_type": "code",
      "execution_count": null,
      "metadata": {
        "colab": {
          "base_uri": "https://localhost:8080/",
          "height": 421
        },
        "id": "nuHJ9ZTQAB0j",
        "outputId": "8e950ea0-22f4-4407-d3e5-09f423c3691b"
      },
      "outputs": [
        {
          "data": {
            "text/plain": [
              "Text(0, 0.5, 'Accuracies')"
            ]
          },
          "execution_count": 81,
          "metadata": {},
          "output_type": "execute_result"
        },
        {
          "data": {
            "image/png": "[encoded data removed]",
            "text/plain": [
              "<Figure size 720x432 with 1 Axes>"
            ]
          },
          "metadata": {},
          "output_type": "display_data"
        }
      ],
      "source": [
        "plt.figure(figsize=(10,6))\n",
        "plt.plot(range(1,40),accuracies,color='blue', linestyle='dashed', \n",
        "         marker='o',markerfacecolor='red', markersize=10)\n",
        "plt.title('Accuracies vs. K Value')\n",
        "plt.xlabel('K')\n",
        "plt.ylabel('Accuracies')"
      ]
    },
    {
      "cell_type": "markdown",
      "metadata": {
        "id": "vumrj9aLAei9"
      },
      "source": [
        "**Observation:**\n",
        "- Larger values of K are giving good prediction. \n",
        "- A range of K values(after 15) are good choice for our model.\n",
        "- Optimal value is 33(Accuracy 0.6738)\n",
        "\n",
        "\n",
        "Reference: https://towardsdatascience.com/how-to-find-the-optimal-value-of-k-in-knn-35d936e554eb"
      ]
    },
    {
      "cell_type": "markdown",
      "metadata": {
        "id": "CW9_YPGKC0in"
      },
      "source": [
        "Let's try normalising the data"
      ]
    },
    {
      "cell_type": "code",
      "execution_count": null,
      "metadata": {
        "colab": {
          "base_uri": "https://localhost:8080/"
        },
        "id": "CUttv00iC3xv",
        "outputId": "2f58c56c-4fbc-477b-c016-39fd294a13d1"
      },
      "outputs": [
        {
          "name": "stdout",
          "output_type": "stream",
          "text": [
            "Confusion matrix \n",
            " [[ 788 1063]\n",
            " [ 665 2484]]\n",
            "Accuracy:  0.6544\n",
            "Recall : 0.7888218482057796\n",
            "Precision : 0.7003101212292078\n",
            "F1 score : 0.7419354838709677\n"
          ]
        }
      ],
      "source": [
        "from sklearn import preprocessing\n",
        "scaler = preprocessing.StandardScaler().fit(X_train)\n",
        "\n",
        "X_train_s = scaler.transform(X_train)\n",
        "X_test_s = scaler.transform(X_test)\n",
        "\n",
        "model_knn= KNeighborsClassifier(n_neighbors=5)\n",
        "\n",
        "model_knn.fit(X_train_s,y_train)\n",
        "y_pred = model_knn.predict(X_test_s)\n",
        "validation(y_test, y_pred)"
      ]
    },
    {
      "cell_type": "markdown",
      "metadata": {
        "id": "i2wDaba-DDsz"
      },
      "source": [
        "Observation: Same results because all features are binary."
      ]
    },
    {
      "cell_type": "markdown",
      "metadata": {
        "id": "7HaRzB5rUvy_"
      },
      "source": [
        "## Logistic Regression"
      ]
    },
    {
      "cell_type": "markdown",
      "metadata": {
        "id": "uA73r9Ih_Vhp"
      },
      "source": [
        "We can create logistic regression model using sklearn. One example is shown below:"
      ]
    },
    {
      "cell_type": "code",
      "execution_count": null,
      "metadata": {
        "colab": {
          "base_uri": "https://localhost:8080/"
        },
        "id": "IJh67ENiUu3Y",
        "outputId": "12775a3a-f48b-43e3-cc85-b44a82072ce2"
      },
      "outputs": [
        {
          "name": "stdout",
          "output_type": "stream",
          "text": [
            "Accuracy on  test data:  0.6876\n"
          ]
        }
      ],
      "source": [
        "from sklearn.linear_model import LogisticRegression\n",
        "\n",
        "model = LogisticRegression(solver= 'liblinear', random_state=0)\n",
        "model.fit(X_train, y_train)\n",
        "\n",
        "print('Accuracy on  test data: ', model.score(X_test, y_test))\n",
        "\n"
      ]
    },
    {
      "cell_type": "markdown",
      "metadata": {
        "id": "rf_O7eOzAkbk"
      },
      "source": [
        "for logistic regression in sklearn there exists 5 types of solver namely ‘newton-cg’, ‘lbfgs’, ‘liblinear’, ‘sag’ and ‘saga’. They have different use for different type of datasets.\n",
        "There are panalty types and a constant C which decides panalty strength in regularized logistic regression. \n",
        "\n",
        "So, now we will check which one is performing well for our case. And we will get to know the optimal hyperparameters."
      ]
    },
    {
      "cell_type": "code",
      "execution_count": null,
      "metadata": {
        "colab": {
          "base_uri": "https://localhost:8080/"
        },
        "id": "rFTxRNtgBijC",
        "outputId": "f514bc4a-9ba0-450e-8b7f-3643e52de7b2"
      },
      "outputs": [
        {
          "name": "stdout",
          "output_type": "stream",
          "text": [
            "Best: 0.692613 using {'C': 0.01, 'penalty': 'l2', 'solver': 'liblinear'}\n",
            "0.690520 (0.007973) with: {'C': 100, 'penalty': 'l2', 'solver': 'newton-cg'}\n",
            "0.690520 (0.007973) with: {'C': 100, 'penalty': 'l2', 'solver': 'lbfgs'}\n",
            "0.690520 (0.007973) with: {'C': 100, 'penalty': 'l2', 'solver': 'liblinear'}\n",
            "0.690533 (0.007958) with: {'C': 10, 'penalty': 'l2', 'solver': 'newton-cg'}\n",
            "0.690533 (0.007958) with: {'C': 10, 'penalty': 'l2', 'solver': 'lbfgs'}\n",
            "0.690533 (0.007958) with: {'C': 10, 'penalty': 'l2', 'solver': 'liblinear'}\n",
            "0.690507 (0.007950) with: {'C': 1.0, 'penalty': 'l2', 'solver': 'newton-cg'}\n",
            "0.690507 (0.007950) with: {'C': 1.0, 'penalty': 'l2', 'solver': 'lbfgs'}\n",
            "0.690560 (0.007925) with: {'C': 1.0, 'penalty': 'l2', 'solver': 'liblinear'}\n",
            "0.690653 (0.008026) with: {'C': 0.1, 'penalty': 'l2', 'solver': 'newton-cg'}\n",
            "0.690653 (0.008026) with: {'C': 0.1, 'penalty': 'l2', 'solver': 'lbfgs'}\n",
            "0.690627 (0.008061) with: {'C': 0.1, 'penalty': 'l2', 'solver': 'liblinear'}\n",
            "0.692200 (0.008087) with: {'C': 0.01, 'penalty': 'l2', 'solver': 'newton-cg'}\n",
            "0.692200 (0.008087) with: {'C': 0.01, 'penalty': 'l2', 'solver': 'lbfgs'}\n",
            "0.692613 (0.008177) with: {'C': 0.01, 'penalty': 'l2', 'solver': 'liblinear'}\n"
          ]
        }
      ],
      "source": [
        "# example of grid searching key hyperparametres for logistic regression\n",
        "from sklearn.datasets import make_blobs\n",
        "from sklearn.model_selection import RepeatedStratifiedKFold\n",
        "from sklearn.model_selection import GridSearchCV\n",
        "from sklearn.linear_model import LogisticRegression\n",
        "\n",
        "# different models and parameters\n",
        "model = LogisticRegression()\n",
        "solvers = ['newton-cg', 'lbfgs', 'liblinear']\n",
        "penalty = ['l2']\n",
        "c_values = [100, 10, 1.0, 0.1, 0.01]\n",
        "\n",
        "# defining grid search and using 10-Fold cross validation here.\n",
        "grid = dict(solver=solvers,penalty=penalty,C=c_values)\n",
        "cv = RepeatedStratifiedKFold(n_splits=10, n_repeats=3, random_state=1)\n",
        "grid_search = GridSearchCV(estimator=model, param_grid=grid, n_jobs=-1, cv=cv, scoring='accuracy',error_score=0)\n",
        "grid_result = grid_search.fit(data_X_final, data_y)\n",
        "\n",
        "# summarize results\n",
        "print(\"Best: %f using %s\" % (grid_result.best_score_, grid_result.best_params_))\n",
        "means = grid_result.cv_results_['mean_test_score']\n",
        "stds = grid_result.cv_results_['std_test_score']\n",
        "params = grid_result.cv_results_['params']\n",
        "for mean, stdev, param in zip(means, stds, params):\n",
        "    print(\"%f (%f) with: %r\" % (mean, stdev, param))"
      ]
    },
    {
      "cell_type": "markdown",
      "metadata": {
        "id": "s_qu9JJZCeLl"
      },
      "source": [
        "**Observation**:\n",
        "As we can see here, for our dataset, significant affect in performance for lower C value. Means for high regularization out model perfroms well.\n",
        "\n",
        "Reference:\n",
        "https://scikit-learn.org/stable/modules/generated/sklearn.linear_model.LogisticRegression.html\n",
        "\n",
        "https://machinelearningmastery.com/hyperparameters-for-classification-machine-learning-algorithms/\n",
        "\n"
      ]
    },
    {
      "cell_type": "markdown",
      "metadata": {
        "id": "I9vMiSxuJKUb"
      },
      "source": [
        "##Decision Trees"
      ]
    },
    {
      "cell_type": "code",
      "execution_count": null,
      "metadata": {
        "colab": {
          "base_uri": "https://localhost:8080/"
        },
        "id": "xbTbGPfmJOFy",
        "outputId": "1e8c01d5-2494-44ee-e766-eceba4ed45f8"
      },
      "outputs": [
        {
          "output_type": "stream",
          "name": "stdout",
          "text": [
            "|--- Rectal Pain <= 0.50\n",
            "|   |--- HIV Infection <= 0.50\n",
            "|   |   |--- Systemic Illness_None <= 0.50\n",
            "|   |   |   |--- Systemic Illness_Muscle Aches and Pain <= 0.50\n",
            "|   |   |   |   |--- Sexually Transmitted Infection <= 0.50\n",
            "|   |   |   |   |   |--- class: 1\n",
            "|   |   |   |   |--- Sexually Transmitted Infection >  0.50\n",
            "|   |   |   |   |   |--- class: 1\n",
            "|   |   |   |--- Systemic Illness_Muscle Aches and Pain >  0.50\n",
            "|   |   |   |   |--- Sexually Transmitted Infection <= 0.50\n",
            "|   |   |   |   |   |--- class: 0\n",
            "|   |   |   |   |--- Sexually Transmitted Infection >  0.50\n",
            "|   |   |   |   |   |--- class: 0\n",
            "|   |   |--- Systemic Illness_None >  0.50\n",
            "|   |   |   |--- Sexually Transmitted Infection <= 0.50\n",
            "|   |   |   |   |--- Penile Oedema <= 0.50\n",
            "|   |   |   |   |   |--- class: 0\n",
            "|   |   |   |   |--- Penile Oedema >  0.50\n",
            "|   |   |   |   |   |--- class: 0\n",
            "|   |   |   |--- Sexually Transmitted Infection >  0.50\n",
            "|   |   |   |   |--- Oral Lesions <= 0.50\n",
            "|   |   |   |   |   |--- class: 0\n",
            "|   |   |   |   |--- Oral Lesions >  0.50\n",
            "|   |   |   |   |   |--- class: 0\n",
            "|   |--- HIV Infection >  0.50\n",
            "|   |   |--- Systemic Illness_Muscle Aches and Pain <= 0.50\n",
            "|   |   |   |--- Systemic Illness_None <= 0.50\n",
            "|   |   |   |   |--- Sexually Transmitted Infection <= 0.50\n",
            "|   |   |   |   |   |--- class: 1\n",
            "|   |   |   |   |--- Sexually Transmitted Infection >  0.50\n",
            "|   |   |   |   |   |--- class: 1\n",
            "|   |   |   |--- Systemic Illness_None >  0.50\n",
            "|   |   |   |   |--- Sexually Transmitted Infection <= 0.50\n",
            "|   |   |   |   |   |--- class: 0\n",
            "|   |   |   |   |--- Sexually Transmitted Infection >  0.50\n",
            "|   |   |   |   |   |--- class: 1\n",
            "|   |   |--- Systemic Illness_Muscle Aches and Pain >  0.50\n",
            "|   |   |   |--- Sore Throat <= 0.50\n",
            "|   |   |   |   |--- Sexually Transmitted Infection <= 0.50\n",
            "|   |   |   |   |   |--- class: 0\n",
            "|   |   |   |   |--- Sexually Transmitted Infection >  0.50\n",
            "|   |   |   |   |   |--- class: 1\n",
            "|   |   |   |--- Sore Throat >  0.50\n",
            "|   |   |   |   |--- Oral Lesions <= 0.50\n",
            "|   |   |   |   |   |--- class: 1\n",
            "|   |   |   |   |--- Oral Lesions >  0.50\n",
            "|   |   |   |   |   |--- class: 1\n",
            "|--- Rectal Pain >  0.50\n",
            "|   |--- HIV Infection <= 0.50\n",
            "|   |   |--- Sexually Transmitted Infection <= 0.50\n",
            "|   |   |   |--- Systemic Illness_Muscle Aches and Pain <= 0.50\n",
            "|   |   |   |   |--- Systemic Illness_None <= 0.50\n",
            "|   |   |   |   |   |--- class: 1\n",
            "|   |   |   |   |--- Systemic Illness_None >  0.50\n",
            "|   |   |   |   |   |--- class: 0\n",
            "|   |   |   |--- Systemic Illness_Muscle Aches and Pain >  0.50\n",
            "|   |   |   |   |--- Sore Throat <= 0.50\n",
            "|   |   |   |   |   |--- class: 0\n",
            "|   |   |   |   |--- Sore Throat >  0.50\n",
            "|   |   |   |   |   |--- class: 1\n",
            "|   |   |--- Sexually Transmitted Infection >  0.50\n",
            "|   |   |   |--- Systemic Illness_None <= 0.50\n",
            "|   |   |   |   |--- Systemic Illness_Muscle Aches and Pain <= 0.50\n",
            "|   |   |   |   |   |--- class: 1\n",
            "|   |   |   |   |--- Systemic Illness_Muscle Aches and Pain >  0.50\n",
            "|   |   |   |   |   |--- class: 1\n",
            "|   |   |   |--- Systemic Illness_None >  0.50\n",
            "|   |   |   |   |--- Sore Throat <= 0.50\n",
            "|   |   |   |   |   |--- class: 1\n",
            "|   |   |   |   |--- Sore Throat >  0.50\n",
            "|   |   |   |   |   |--- class: 1\n",
            "|   |--- HIV Infection >  0.50\n",
            "|   |   |--- Systemic Illness_Swollen Lymph Nodes <= 0.50\n",
            "|   |   |   |--- Sexually Transmitted Infection <= 0.50\n",
            "|   |   |   |   |--- Systemic Illness_Muscle Aches and Pain <= 0.50\n",
            "|   |   |   |   |   |--- class: 1\n",
            "|   |   |   |   |--- Systemic Illness_Muscle Aches and Pain >  0.50\n",
            "|   |   |   |   |   |--- class: 1\n",
            "|   |   |   |--- Sexually Transmitted Infection >  0.50\n",
            "|   |   |   |   |--- Systemic Illness_None <= 0.50\n",
            "|   |   |   |   |   |--- class: 1\n",
            "|   |   |   |   |--- Systemic Illness_None >  0.50\n",
            "|   |   |   |   |   |--- class: 1\n",
            "|   |   |--- Systemic Illness_Swollen Lymph Nodes >  0.50\n",
            "|   |   |   |--- Solitary Lesion <= 0.50\n",
            "|   |   |   |   |--- Oral Lesions <= 0.50\n",
            "|   |   |   |   |   |--- class: 1\n",
            "|   |   |   |   |--- Oral Lesions >  0.50\n",
            "|   |   |   |   |   |--- class: 1\n",
            "|   |   |   |--- Solitary Lesion >  0.50\n",
            "|   |   |   |   |--- Swollen Tonsils <= 0.50\n",
            "|   |   |   |   |   |--- class: 1\n",
            "|   |   |   |   |--- Swollen Tonsils >  0.50\n",
            "|   |   |   |   |   |--- class: 1\n",
            "\n",
            "Confusion matrix \n",
            " [[ 642 1134]\n",
            " [ 443 2781]]\n",
            "Accuracy:  0.6846\n",
            "Recall : 0.8625930521091811\n",
            "Precision : 0.7103448275862069\n",
            "F1 score : 0.7791007143857682\n"
          ]
        }
      ],
      "source": [
        "from sklearn.tree import DecisionTreeClassifier\n",
        "from sklearn.tree import export_text\n",
        "# instantiate the DecisionTreeClassifier model with criterion gini index\n",
        "#clf_gini = DecisionTreeClassifier(criterion='gini', max_depth=3, random_state=0)\n",
        "# fit the model\n",
        "#clf_gini.fit(X, y)\n",
        "\n",
        "feature_names = X_train.columns\n",
        "\n",
        "clf_model = DecisionTreeClassifier(criterion=\"entropy\", random_state=42, max_depth=5, min_samples_leaf=5)   \n",
        "clf_model.fit(X_train,y_train)\n",
        "\n",
        "\n",
        "y_predict = clf_model.predict(X_test)\n",
        "y_predict_train = clf_model.predict(X_train)\n",
        "\n",
        "#export the decision rules\n",
        "tree_rules = export_text(clf_model, feature_names = list(feature_names))\n",
        "#print the result\n",
        "print(tree_rules)\n",
        "\n",
        "validation(y_test,y_predict)\n"
      ]
    },
    {
      "cell_type": "code",
      "execution_count": null,
      "metadata": {
        "colab": {
          "base_uri": "https://localhost:8080/"
        },
        "id": "8gRQC8QdrkmF",
        "outputId": "5209a7c9-1f2e-42b9-cb7d-3f4ae8708991"
      },
      "outputs": [
        {
          "output_type": "stream",
          "name": "stdout",
          "text": [
            "test evaluation \n",
            "Confusion matrix \n",
            " [[ 639 1137]\n",
            " [ 471 2753]]\n",
            "Accuracy:  0.6784\n",
            "Recall : 0.8539081885856079\n",
            "Precision : 0.7077120822622108\n",
            "F1 score : 0.7739668259769468\n",
            "train evaluation \n",
            "Confusion matrix \n",
            " [[ 2915  4400]\n",
            " [ 1474 11211]]\n",
            "Accuracy:  0.7063\n",
            "Recall : 0.8837997635001971\n",
            "Precision : 0.7181474601242713\n",
            "F1 score : 0.7924088210347753\n"
          ]
        }
      ],
      "source": [
        "clf_model = DecisionTreeClassifier(criterion=\"entropy\", random_state=42, max_depth=10, min_samples_leaf= 5)   \n",
        "clf_model.fit(X_train,y_train)\n",
        "y_predict = clf_model.predict(X_test)\n",
        "y_predict_train = clf_model.predict(X_train)\n",
        "\n",
        "#export the decision rules\n",
        "tree_rules = export_text(clf_model, feature_names = list(feature_names))\n",
        "#print the result\n",
        "#print(tree_rules)\n",
        "print(\"test evaluation \")\n",
        "validation(y_test,y_predict)\n",
        "print(\"train evaluation \")\n",
        "validation(y_train,y_predict_train)"
      ]
    },
    {
      "cell_type": "markdown",
      "metadata": {
        "id": "NtlwZi7CXksl"
      },
      "source": [
        "**Observation**: \n",
        "- Accuracy of this model is close to 70%, which was expected. \n",
        "- Also, the splitting is done on those features which we found to be most relevant in our EDA.\n",
        "\n",
        "Now, let us see how different hyperparameters(depth and number of leaves) affect the model performance. \n",
        "Let's try to tune hyperparameters in order to find optimal hyperparameters."
      ]
    },
    {
      "cell_type": "code",
      "execution_count": null,
      "metadata": {
        "colab": {
          "base_uri": "https://localhost:8080/"
        },
        "id": "Psbex59vYmXW",
        "outputId": "2ef2e8dc-82b2-421a-e63c-c17a60f454e2"
      },
      "outputs": [
        {
          "name": "stdout",
          "output_type": "stream",
          "text": [
            "Fitting 10 folds for each of 144 candidates, totalling 1440 fits\n"
          ]
        },
        {
          "name": "stderr",
          "output_type": "stream",
          "text": [
            "/usr/local/lib/python3.7/dist-packages/sklearn/model_selection/_validation.py:372: FitFailedWarning: \n",
            "160 fits failed out of a total of 1440.\n",
            "The score on these train-test partitions for these parameters will be set to nan.\n",
            "If these failures are not expected, you can try to debug them by setting error_score='raise'.\n",
            "\n",
            "Below are more details about the failures:\n",
            "--------------------------------------------------------------------------------\n",
            "160 fits failed with the following error:\n",
            "Traceback (most recent call last):\n",
            "  File \"/usr/local/lib/python3.7/dist-packages/sklearn/model_selection/_validation.py\", line 680, in _fit_and_score\n",
            "    estimator.fit(X_train, y_train, **fit_params)\n",
            "  File \"/usr/local/lib/python3.7/dist-packages/sklearn/tree/_classes.py\", line 942, in fit\n",
            "    X_idx_sorted=X_idx_sorted,\n",
            "  File \"/usr/local/lib/python3.7/dist-packages/sklearn/tree/_classes.py\", line 254, in fit\n",
            "    % self.min_samples_split\n",
            "ValueError: min_samples_split must be an integer greater than 1 or a float in (0.0, 1.0]; got the integer 1\n",
            "\n",
            "  warnings.warn(some_fits_failed_message, FitFailedWarning)\n",
            "/usr/local/lib/python3.7/dist-packages/sklearn/model_selection/_search.py:972: UserWarning: One or more of the test scores are non-finite: [    nan 0.64568 0.64568 0.64568 0.64568 0.64568 0.64568 0.64568 0.64568\n",
            "     nan 0.64568 0.64568 0.64568 0.64568 0.64568 0.64568 0.64568 0.64568\n",
            "     nan 0.64568 0.64568 0.64568 0.64568 0.64568 0.64568 0.64568 0.64568\n",
            "     nan 0.64568 0.64568 0.64568 0.64568 0.64568 0.64568 0.64568 0.64568\n",
            "     nan 0.65548 0.65548 0.65548 0.65548 0.65548 0.65548 0.65548 0.65548\n",
            "     nan 0.65548 0.65548 0.65548 0.65548 0.65548 0.65548 0.65548 0.65548\n",
            "     nan 0.65548 0.65548 0.65548 0.65548 0.65548 0.65548 0.65548 0.65548\n",
            "     nan 0.65548 0.65548 0.65548 0.65548 0.65548 0.65548 0.65548 0.65548\n",
            "     nan 0.6856  0.6856  0.6856  0.6856  0.6856  0.6856  0.6856  0.6856\n",
            "     nan 0.6856  0.6856  0.6856  0.6856  0.6856  0.6856  0.6856  0.6856\n",
            "     nan 0.6856  0.6856  0.6856  0.6856  0.6856  0.6856  0.6856  0.6856\n",
            "     nan 0.6856  0.6856  0.6856  0.6856  0.6856  0.6856  0.6856  0.6856\n",
            "     nan 0.68016 0.68016 0.68016 0.68016 0.68016 0.68016 0.68016 0.68016\n",
            "     nan 0.68016 0.68016 0.68016 0.68016 0.68016 0.68016 0.68016 0.68016\n",
            "     nan 0.68016 0.68016 0.68016 0.68016 0.68016 0.68016 0.68016 0.68016\n",
            "     nan 0.68016 0.68016 0.68016 0.68016 0.68016 0.68016 0.68016 0.68016]\n",
            "  category=UserWarning,\n"
          ]
        },
        {
          "data": {
            "text/plain": [
              "GridSearchCV(cv=10, estimator=DecisionTreeClassifier(random_state=42),\n",
              "             n_jobs=-1,\n",
              "             param_grid={'criterion': ['entropy'], 'max_depth': [2, 3, 5, 10],\n",
              "                         'min_samples_leaf': range(1, 5),\n",
              "                         'min_samples_split': range(1, 10)},\n",
              "             scoring='accuracy', verbose=1)"
            ]
          },
          "execution_count": 31,
          "metadata": {},
          "output_type": "execute_result"
        }
      ],
      "source": [
        "# Again we will be using GridSearch for tuning\n",
        "from sklearn.model_selection import GridSearchCV\n",
        "\n",
        "# Create the parameter grid based on the results of random search \n",
        "params = {\n",
        "    'max_depth': [2, 3, 5, 10],\n",
        "    'min_samples_leaf': range(1, 5),\n",
        "    'min_samples_split': range(1, 10),\n",
        "    'criterion': [\"entropy\"]\n",
        "}\n",
        "\n",
        "dt = DecisionTreeClassifier(random_state=42)\n",
        "\n",
        "# Instantiate the grid search model\n",
        "grid_search = GridSearchCV(estimator=dt, \n",
        "                           param_grid=params, \n",
        "                           cv=10, n_jobs=-1, verbose=1, scoring = \"accuracy\")\n",
        "\n",
        "# We will be using our complete dataset here\n",
        "\n",
        "grid_search.fit(data_X_final, data_y)"
      ]
    },
    {
      "cell_type": "code",
      "execution_count": null,
      "metadata": {
        "colab": {
          "base_uri": "https://localhost:8080/"
        },
        "id": "-UbhpNaJGM_N",
        "outputId": "338be45c-41cd-4be5-e755-e44579619d4f"
      },
      "outputs": [
        {
          "data": {
            "text/plain": [
              "{'criterion': 'entropy',\n",
              " 'max_depth': 5,\n",
              " 'min_samples_leaf': 1,\n",
              " 'min_samples_split': 2}"
            ]
          },
          "execution_count": 32,
          "metadata": {},
          "output_type": "execute_result"
        }
      ],
      "source": [
        "grid_search.best_params_"
      ]
    },
    {
      "cell_type": "code",
      "execution_count": null,
      "metadata": {
        "colab": {
          "base_uri": "https://localhost:8080/"
        },
        "id": "C3U4JATcIqwU",
        "outputId": "e53faaf6-92d3-48ab-db52-b7608cd23a18"
      },
      "outputs": [
        {
          "data": {
            "text/plain": [
              "DecisionTreeClassifier(criterion='entropy', max_depth=5, random_state=42)"
            ]
          },
          "execution_count": 33,
          "metadata": {},
          "output_type": "execute_result"
        }
      ],
      "source": [
        "grid_search.best_estimator_"
      ]
    },
    {
      "cell_type": "code",
      "execution_count": null,
      "metadata": {
        "colab": {
          "base_uri": "https://localhost:8080/"
        },
        "id": "2ofb9hKDIvxH",
        "outputId": "bb62f7d2-dc27-4b96-e54b-1671046f55b4"
      },
      "outputs": [
        {
          "data": {
            "text/plain": [
              "0.6856"
            ]
          },
          "execution_count": 35,
          "metadata": {},
          "output_type": "execute_result"
        }
      ],
      "source": [
        "grid_search.best_score_"
      ]
    },
    {
      "cell_type": "markdown",
      "metadata": {
        "id": "CnunM1UPJDEB"
      },
      "source": [
        "**Observation**:\n",
        "- So we found that max_depth 5, min_sample_leaft 1 and min_sample_split 2 are the best hyperparameters giving best 68.5% accuracy."
      ]
    },
    {
      "cell_type": "markdown",
      "metadata": {
        "id": "sgmS4vf1HGT2"
      },
      "source": [
        "Reference : \n",
        "- https://www.kaggle.com/code/gauravduttakiit/hyperparameter-tuning-in-decision-trees\n",
        "- https://plainenglish.io/blog/hyperparameter-tuning-of-decision-tree-classifier-using-gridsearchcv-2a6ebcaffeda"
      ]
    },
    {
      "cell_type": "markdown",
      "metadata": {
        "id": "6T_qJeEawRtm"
      },
      "source": [
        "##Neural Networks"
      ]
    },
    {
      "cell_type": "code",
      "execution_count": null,
      "metadata": {
        "id": "rxurym1bF3Yq"
      },
      "outputs": [],
      "source": [
        "!pip install scikeras\n",
        "!pip install tensorflow"
      ]
    },
    {
      "cell_type": "code",
      "execution_count": null,
      "metadata": {
        "id": "Jlq5f0-kwWts"
      },
      "outputs": [],
      "source": [
        "#importing useful libraries\n",
        "import pandas as pd\n",
        "from tensorflow import keras\n",
        "from keras.layers import Dense\n",
        "from keras.models import Sequential, load_model\n",
        "from scikeras.wrappers import KerasClassifier\n",
        "from sklearn.model_selection import cross_val_score\n",
        "from sklearn.preprocessing import LabelEncoder\n",
        "from sklearn.model_selection import StratifiedKFold\n",
        "from sklearn.preprocessing import StandardScaler\n",
        "from sklearn.pipeline import Pipeline"
      ]
    },
    {
      "cell_type": "markdown",
      "metadata": {
        "id": "HhWxDrEfUa6k"
      },
      "source": [
        "first creating baseline model with single hidden layer with same number of neurons as input variables. This will be the starting point of creating our neural network. Using relu activation here."
      ]
    },
    {
      "cell_type": "code",
      "execution_count": null,
      "metadata": {
        "id": "M8tRGt0YUZCM"
      },
      "outputs": [],
      "source": [
        "# baseline model\n",
        "def create_baseline():\n",
        "\t# create model\n",
        "\tmodel = Sequential()\n",
        "\tmodel.add(Dense(11, input_shape=(11,), activation='relu'))\n",
        "\tmodel.add(Dense(1, activation='sigmoid'))\n",
        "\t# Compile model\n",
        "\tmodel.compile(loss='binary_crossentropy', optimizer='adam', metrics=['accuracy'])\n",
        "\treturn model"
      ]
    },
    {
      "cell_type": "code",
      "execution_count": null,
      "metadata": {
        "colab": {
          "base_uri": "https://localhost:8080/"
        },
        "id": "UmcKl93rlnEI",
        "outputId": "1839ec87-90c2-40a5-a111-c0c94751dad7"
      },
      "outputs": [
        {
          "output_type": "stream",
          "name": "stdout",
          "text": [
            "[[0 1 1 ... 0 1 0]\n",
            " [1 0 1 ... 0 0 0]\n",
            " [0 1 1 ... 0 0 0]\n",
            " ...\n",
            " [1 1 0 ... 0 1 0]\n",
            " [0 1 0 ... 0 0 1]\n",
            " [0 0 1 ... 0 0 1]]\n"
          ]
        }
      ],
      "source": [
        "#converting data to numpy array for Keras Classifier\n",
        "X = data_X_final.to_numpy();\n",
        "y = data_y.to_numpy();\n",
        "print(X)"
      ]
    },
    {
      "cell_type": "markdown",
      "metadata": {
        "id": "tofyq1RkWDed"
      },
      "source": [
        "performing 10-Fold stratified cross validation."
      ]
    },
    {
      "cell_type": "code",
      "execution_count": null,
      "metadata": {
        "colab": {
          "base_uri": "https://localhost:8080/"
        },
        "id": "wHQjaoMxV9i4",
        "outputId": "753e3d25-d950-4457-b69d-b95bf40091c6"
      },
      "outputs": [
        {
          "output_type": "stream",
          "name": "stdout",
          "text": [
            "Baseline Accuracy and Std. deviation: 69.35% (0.88%)\n"
          ]
        }
      ],
      "source": [
        "# evaluate model \n",
        "estimator = KerasClassifier(model=create_baseline, epochs=100, batch_size=500, verbose=0)\n",
        "kfold = StratifiedKFold(n_splits=10, shuffle=True)\n",
        "results = cross_val_score(estimator, X, y, cv=kfold)\n",
        "print(\"Baseline Accuracy and Std. deviation: %.2f%% (%.2f%%)\" % (results.mean()*100, results.std()*100))"
      ]
    },
    {
      "cell_type": "markdown",
      "metadata": {
        "id": "6Gt0sMNeNBHX"
      },
      "source": [
        "**Observation**: \n",
        "- The performance of this model is pretty good. \n",
        "\n",
        "\n",
        "Reference: https://machinelearningmastery.com/binary-classification-tutorial-with-the-keras-deep-learning-library/\n"
      ]
    },
    {
      "cell_type": "markdown",
      "metadata": {
        "id": "tNat98ABNKd3"
      },
      "source": [
        "Now let's see how many hidden layers and how many activation units per layer are required. These are our hyperparameters. \n",
        "We need to find optimal values so that our model can achieve best accuracy.\n",
        "\n",
        "We will be using Bayesian Optimizer for this.\n"
      ]
    },
    {
      "cell_type": "code",
      "source": [
        "#installing important  package\n",
        "!pip install bayesian-optimization"
      ],
      "metadata": {
        "id": "2u7ivN5W3sIm"
      },
      "execution_count": null,
      "outputs": []
    },
    {
      "cell_type": "code",
      "source": [
        "# Importing important packages\n",
        "import numpy as np\n",
        "import pandas as pd\n",
        "import matplotlib.pyplot as plt\n",
        "import seaborn as sns\n",
        "from sklearn.model_selection import train_test_split\n",
        "from sklearn.model_selection import cross_val_score\n",
        "from keras.models import Sequential\n",
        "from keras.layers import Dense, BatchNormalization, Dropout\n",
        "from keras.optimizers import Adam, SGD, RMSprop, Adadelta, Adagrad, Adamax, Nadam, Ftrl\n",
        "from keras.callbacks import EarlyStopping, ModelCheckpoint\n",
        "from keras.wrappers.scikit_learn import KerasClassifier\n",
        "from math import floor\n",
        "from sklearn.metrics import make_scorer, accuracy_score\n",
        "from bayes_opt import BayesianOptimization\n",
        "from sklearn.model_selection import StratifiedKFold\n",
        "from keras.layers import LeakyReLU\n",
        "LeakyReLU = LeakyReLU(alpha=0.1)\n",
        "import warnings\n",
        "warnings.filterwarnings('ignore')\n",
        "pd.set_option(\"display.max_columns\", None)"
      ],
      "metadata": {
        "id": "Lsj_7Z8k1lEk"
      },
      "execution_count": null,
      "outputs": []
    },
    {
      "cell_type": "code",
      "source": [
        "# Make scorer accuracy\n",
        "score_acc = make_scorer(accuracy_score)"
      ],
      "metadata": {
        "id": "73iDdOic2KvF"
      },
      "execution_count": null,
      "outputs": []
    },
    {
      "cell_type": "code",
      "source": [
        "# Create function and providing different type of optimizers activation types learning rate etc.\n",
        "def nn_cl_bo(neurons, activation, optimizer, learning_rate,  batch_size, epochs ):\n",
        "    optimizerL = ['SGD', 'Adam', 'RMSprop', 'Adadelta', 'Adagrad', 'Adamax', 'Nadam', 'Ftrl','SGD']\n",
        "    optimizerD= {'Adam':Adam(lr=learning_rate), 'SGD':SGD(lr=learning_rate),\n",
        "                 'RMSprop':RMSprop(lr=learning_rate), 'Adadelta':Adadelta(lr=learning_rate),\n",
        "                 'Adagrad':Adagrad(lr=learning_rate), 'Adamax':Adamax(lr=learning_rate),\n",
        "                 'Nadam':Nadam(lr=learning_rate), 'Ftrl':Ftrl(lr=learning_rate)}\n",
        "    activationL = ['relu', 'sigmoid', 'softplus', 'softsign', 'tanh', 'selu',\n",
        "                   'elu', 'exponential', LeakyReLU,'relu']\n",
        "    neurons = round(neurons)\n",
        "    activation = activationL[round(activation)]\n",
        "    batch_size = round(batch_size)\n",
        "    epochs = round(epochs)\n",
        "    def nn_cl_fun():\n",
        "        opt = Adam(lr = learning_rate)\n",
        "        nn = Sequential()\n",
        "        nn.add(Dense(neurons, input_dim=11, activation=activation))\n",
        "        nn.add(Dense(neurons, activation=activation))\n",
        "        nn.add(Dense(1, activation='sigmoid'))\n",
        "        nn.compile(loss='binary_crossentropy', optimizer=opt, metrics=['accuracy'])\n",
        "        return nn\n",
        "    es = EarlyStopping(monitor='accuracy', mode='max', verbose=0, patience=20)\n",
        "    nn = KerasClassifier(build_fn=nn_cl_fun, epochs=epochs, batch_size=batch_size,\n",
        "                         verbose=0)\n",
        "    kfold = StratifiedKFold(n_splits=5, shuffle=True, random_state=123)\n",
        "    score = cross_val_score(nn, X, y, scoring=score_acc, cv=kfold, fit_params={'callbacks':[es]}).mean()\n",
        "    return score"
      ],
      "metadata": {
        "id": "Gn0A3YnF2Zf0"
      },
      "execution_count": null,
      "outputs": []
    },
    {
      "cell_type": "code",
      "source": [
        "# Set paramaters\n",
        "params_nn ={\n",
        "    'neurons': (1, 30),\n",
        "    'activation':(0, 9),\n",
        "    'optimizer':(0,7),\n",
        "    'learning_rate':(0.01, 1),\n",
        "    'batch_size':(200, 1000),\n",
        "    'epochs':(20, 100)\n",
        "}\n",
        "# Running Bayesian Optimization\n",
        "nn_bo = BayesianOptimization(nn_cl_bo, params_nn, random_state=111)\n",
        "nn_bo.maximize(init_points=25, n_iter=4)"
      ],
      "metadata": {
        "colab": {
          "base_uri": "https://localhost:8080/"
        },
        "id": "wQpXmTH-2ku2",
        "outputId": "f1257821-d77f-4b65-e8ce-dac14c84fc99"
      },
      "execution_count": null,
      "outputs": [
        {
          "output_type": "stream",
          "name": "stdout",
          "text": [
            "|   iter    |  target   | activa... | batch_... |  epochs   | learni... |  neurons  | optimizer |\n",
            "-------------------------------------------------------------------------------------------------\n",
            "| \u001b[0m1        \u001b[0m | \u001b[0m0.5273   \u001b[0m | \u001b[0m5.51     \u001b[0m | \u001b[0m335.3    \u001b[0m | \u001b[0m54.88    \u001b[0m | \u001b[0m0.7716   \u001b[0m | \u001b[0m9.564    \u001b[0m | \u001b[0m1.044    \u001b[0m |\n",
            "| \u001b[95m2        \u001b[0m | \u001b[95m0.6646   \u001b[0m | \u001b[95m0.2023   \u001b[0m | \u001b[95m536.2    \u001b[0m | \u001b[95m39.09    \u001b[0m | \u001b[95m0.3443   \u001b[0m | \u001b[95m29.73    \u001b[0m | \u001b[95m1.664    \u001b[0m |\n",
            "| \u001b[95m3        \u001b[0m | \u001b[95m0.6787   \u001b[0m | \u001b[95m0.7307   \u001b[0m | \u001b[95m735.7    \u001b[0m | \u001b[95m69.7     \u001b[0m | \u001b[95m0.2815   \u001b[0m | \u001b[95m14.52    \u001b[0m | \u001b[95m0.8286   \u001b[0m |\n",
            "| \u001b[0m4        \u001b[0m | \u001b[0m0.5272   \u001b[0m | \u001b[0m0.6656   \u001b[0m | \u001b[0m920.6    \u001b[0m | \u001b[0m83.52    \u001b[0m | \u001b[0m0.8422   \u001b[0m | \u001b[0m24.64    \u001b[0m | \u001b[0m6.937    \u001b[0m |\n",
            "| \u001b[95m5        \u001b[0m | \u001b[95m0.691    \u001b[0m | \u001b[95m5.195    \u001b[0m | \u001b[95m851.0    \u001b[0m | \u001b[95m53.71    \u001b[0m | \u001b[95m0.03717  \u001b[0m | \u001b[95m14.17    \u001b[0m | \u001b[95m0.7373   \u001b[0m |\n",
            "| \u001b[0m6        \u001b[0m | \u001b[0m0.3636   \u001b[0m | \u001b[0m7.355    \u001b[0m | \u001b[0m758.2    \u001b[0m | \u001b[0m65.22    \u001b[0m | \u001b[0m0.2815   \u001b[0m | \u001b[0m29.96    \u001b[0m | \u001b[0m0.9663   \u001b[0m |\n",
            "| \u001b[0m7        \u001b[0m | \u001b[0m0.6364   \u001b[0m | \u001b[0m5.539    \u001b[0m | \u001b[0m588.0    \u001b[0m | \u001b[0m52.4     \u001b[0m | \u001b[0m0.7306   \u001b[0m | \u001b[0m10.36    \u001b[0m | \u001b[0m2.804    \u001b[0m |\n",
            "| \u001b[0m8        \u001b[0m | \u001b[0m0.6879   \u001b[0m | \u001b[0m2.871    \u001b[0m | \u001b[0m957.8    \u001b[0m | \u001b[0m93.5     \u001b[0m | \u001b[0m0.8157   \u001b[0m | \u001b[0m1.988    \u001b[0m | \u001b[0m6.604    \u001b[0m |\n",
            "| \u001b[0m9        \u001b[0m | \u001b[0m0.6365   \u001b[0m | \u001b[0m8.554    \u001b[0m | \u001b[0m845.3    \u001b[0m | \u001b[0m58.5     \u001b[0m | \u001b[0m0.9671   \u001b[0m | \u001b[0m13.09    \u001b[0m | \u001b[0m2.232    \u001b[0m |\n",
            "| \u001b[0m10       \u001b[0m | \u001b[0m0.6469   \u001b[0m | \u001b[0m0.148    \u001b[0m | \u001b[0m230.5    \u001b[0m | \u001b[0m24.25    \u001b[0m | \u001b[0m0.1367   \u001b[0m | \u001b[0m1.968    \u001b[0m | \u001b[0m1.585    \u001b[0m |\n",
            "| \u001b[0m11       \u001b[0m | \u001b[0m0.6751   \u001b[0m | \u001b[0m4.895    \u001b[0m | \u001b[0m342.9    \u001b[0m | \u001b[0m34.35    \u001b[0m | \u001b[0m0.1581   \u001b[0m | \u001b[0m20.81    \u001b[0m | \u001b[0m3.283    \u001b[0m |\n",
            "| \u001b[0m12       \u001b[0m | \u001b[0m0.3636   \u001b[0m | \u001b[0m6.914    \u001b[0m | \u001b[0m735.1    \u001b[0m | \u001b[0m55.3     \u001b[0m | \u001b[0m0.5993   \u001b[0m | \u001b[0m14.39    \u001b[0m | \u001b[0m6.743    \u001b[0m |\n",
            "| \u001b[0m13       \u001b[0m | \u001b[0m0.6462   \u001b[0m | \u001b[0m1.33     \u001b[0m | \u001b[0m925.5    \u001b[0m | \u001b[0m59.83    \u001b[0m | \u001b[0m0.5966   \u001b[0m | \u001b[0m20.86    \u001b[0m | \u001b[0m1.242    \u001b[0m |\n",
            "| \u001b[0m14       \u001b[0m | \u001b[0m0.6888   \u001b[0m | \u001b[0m7.782    \u001b[0m | \u001b[0m585.7    \u001b[0m | \u001b[0m25.55    \u001b[0m | \u001b[0m0.3711   \u001b[0m | \u001b[0m11.48    \u001b[0m | \u001b[0m3.304    \u001b[0m |\n",
            "| \u001b[0m15       \u001b[0m | \u001b[0m0.6439   \u001b[0m | \u001b[0m1.615    \u001b[0m | \u001b[0m340.2    \u001b[0m | \u001b[0m95.93    \u001b[0m | \u001b[0m0.6591   \u001b[0m | \u001b[0m4.915    \u001b[0m | \u001b[0m6.495    \u001b[0m |\n",
            "| \u001b[0m16       \u001b[0m | \u001b[0m0.6432   \u001b[0m | \u001b[0m7.576    \u001b[0m | \u001b[0m242.2    \u001b[0m | \u001b[0m36.29    \u001b[0m | \u001b[0m0.8738   \u001b[0m | \u001b[0m20.54    \u001b[0m | \u001b[0m2.081    \u001b[0m |\n",
            "| \u001b[0m17       \u001b[0m | \u001b[0m0.5818   \u001b[0m | \u001b[0m6.61     \u001b[0m | \u001b[0m694.7    \u001b[0m | \u001b[0m36.84    \u001b[0m | \u001b[0m0.804    \u001b[0m | \u001b[0m2.714    \u001b[0m | \u001b[0m2.158    \u001b[0m |\n",
            "| \u001b[0m18       \u001b[0m | \u001b[0m0.6463   \u001b[0m | \u001b[0m1.866    \u001b[0m | \u001b[0m977.8    \u001b[0m | \u001b[0m92.75    \u001b[0m | \u001b[0m0.6797   \u001b[0m | \u001b[0m4.34     \u001b[0m | \u001b[0m6.706    \u001b[0m |\n",
            "| \u001b[0m19       \u001b[0m | \u001b[0m0.6727   \u001b[0m | \u001b[0m0.8254   \u001b[0m | \u001b[0m703.8    \u001b[0m | \u001b[0m92.23    \u001b[0m | \u001b[0m0.3464   \u001b[0m | \u001b[0m19.93    \u001b[0m | \u001b[0m6.476    \u001b[0m |\n",
            "| \u001b[0m20       \u001b[0m | \u001b[0m0.6833   \u001b[0m | \u001b[0m3.366    \u001b[0m | \u001b[0m817.1    \u001b[0m | \u001b[0m91.69    \u001b[0m | \u001b[0m0.624    \u001b[0m | \u001b[0m5.381    \u001b[0m | \u001b[0m2.624    \u001b[0m |\n",
            "| \u001b[0m21       \u001b[0m | \u001b[0m0.6329   \u001b[0m | \u001b[0m5.723    \u001b[0m | \u001b[0m567.3    \u001b[0m | \u001b[0m62.58    \u001b[0m | \u001b[0m0.3588   \u001b[0m | \u001b[0m20.14    \u001b[0m | \u001b[0m3.336    \u001b[0m |\n",
            "| \u001b[0m22       \u001b[0m | \u001b[0m0.6468   \u001b[0m | \u001b[0m4.091    \u001b[0m | \u001b[0m299.8    \u001b[0m | \u001b[0m53.0     \u001b[0m | \u001b[0m0.2804   \u001b[0m | \u001b[0m11.06    \u001b[0m | \u001b[0m6.821    \u001b[0m |\n",
            "| \u001b[0m23       \u001b[0m | \u001b[0m0.6364   \u001b[0m | \u001b[0m1.94     \u001b[0m | \u001b[0m746.3    \u001b[0m | \u001b[0m22.54    \u001b[0m | \u001b[0m0.837    \u001b[0m | \u001b[0m21.35    \u001b[0m | \u001b[0m6.762    \u001b[0m |\n",
            "| \u001b[0m24       \u001b[0m | \u001b[0m0.6904   \u001b[0m | \u001b[0m5.326    \u001b[0m | \u001b[0m373.9    \u001b[0m | \u001b[0m77.54    \u001b[0m | \u001b[0m0.04056  \u001b[0m | \u001b[0m13.14    \u001b[0m | \u001b[0m1.969    \u001b[0m |\n",
            "| \u001b[0m25       \u001b[0m | \u001b[0m0.6877   \u001b[0m | \u001b[0m0.9562   \u001b[0m | \u001b[0m541.1    \u001b[0m | \u001b[0m87.25    \u001b[0m | \u001b[0m0.1193   \u001b[0m | \u001b[0m29.61    \u001b[0m | \u001b[0m1.633    \u001b[0m |\n",
            "| \u001b[0m26       \u001b[0m | \u001b[0m0.6364   \u001b[0m | \u001b[0m0.4655   \u001b[0m | \u001b[0m537.3    \u001b[0m | \u001b[0m38.51    \u001b[0m | \u001b[0m0.6516   \u001b[0m | \u001b[0m28.23    \u001b[0m | \u001b[0m2.944    \u001b[0m |\n",
            "| \u001b[0m27       \u001b[0m | \u001b[0m0.6364   \u001b[0m | \u001b[0m5.742    \u001b[0m | \u001b[0m860.6    \u001b[0m | \u001b[0m54.72    \u001b[0m | \u001b[0m0.7096   \u001b[0m | \u001b[0m13.27    \u001b[0m | \u001b[0m0.2297   \u001b[0m |\n",
            "| \u001b[0m28       \u001b[0m | \u001b[0m0.6758   \u001b[0m | \u001b[0m6.046    \u001b[0m | \u001b[0m849.9    \u001b[0m | \u001b[0m44.57    \u001b[0m | \u001b[0m0.5374   \u001b[0m | \u001b[0m11.01    \u001b[0m | \u001b[0m3.521    \u001b[0m |\n",
            "| \u001b[0m29       \u001b[0m | \u001b[0m0.6908   \u001b[0m | \u001b[0m0.0      \u001b[0m | \u001b[0m848.5    \u001b[0m | \u001b[0m47.13    \u001b[0m | \u001b[0m0.01     \u001b[0m | \u001b[0m21.28    \u001b[0m | \u001b[0m0.0      \u001b[0m |\n",
            "=================================================================================================\n"
          ]
        }
      ]
    },
    {
      "cell_type": "code",
      "source": [
        "params_nn_ = nn_bo.max['params']\n",
        "activationL = ['relu', 'sigmoid', 'softplus', 'softsign', 'tanh', 'selu',\n",
        "               'elu', 'exponential', LeakyReLU,'relu']\n",
        "params_nn_['activation'] = activationL[round(params_nn_['activation'])]\n",
        "params_nn_"
      ],
      "metadata": {
        "colab": {
          "base_uri": "https://localhost:8080/"
        },
        "id": "lANh-x7W6dIs",
        "outputId": "a7c395b1-bc48-4c39-e981-ba03b193a8cd"
      },
      "execution_count": null,
      "outputs": [
        {
          "output_type": "execute_result",
          "data": {
            "text/plain": [
              "{'activation': 'selu',\n",
              " 'batch_size': 851.0135336291902,\n",
              " 'epochs': 53.7054301919375,\n",
              " 'learning_rate': 0.037173480215022196,\n",
              " 'neurons': 14.169962651595627,\n",
              " 'optimizer': 0.7372825972056519}"
            ]
          },
          "metadata": {},
          "execution_count": 111
        }
      ]
    },
    {
      "cell_type": "markdown",
      "source": [
        "Let's try with optimal hyperparameters"
      ],
      "metadata": {
        "id": "0tLfvZ_GA6ZN"
      }
    },
    {
      "cell_type": "code",
      "source": [
        "# trying with optimal hyperparameters \n",
        "def create_optimal():\n",
        "\t# create model\n",
        "  model = Sequential()\n",
        "  model.add(Dense(15, input_shape=(11,), activation='selu'))\n",
        "  model.add(Dense(1, activation='sigmoid'))\n",
        "  # Compile model\n",
        "  model.compile(loss='binary_crossentropy', optimizer='adam', metrics=['accuracy'])\n",
        "  return model\n",
        "estimators = []\n",
        "estimators.append(('standardize', StandardScaler()))\n",
        "estimators.append(('mlp', KerasClassifier(model=create_optimal, epochs=54, batch_size=852, verbose=0)))\n",
        "pipeline = Pipeline(estimators)\n",
        "kfold = StratifiedKFold(n_splits=10, shuffle=True)\n",
        "results = cross_val_score(pipeline, X, y, cv=kfold)\n",
        "#print(\"Smaller: %.2f% (%.2f%)\" % (results.mean(), results.std()))\n",
        "print(\"Accuracy: %.2f%% (%.2f%%)\" % (results.mean()*100, results.std()*100))"
      ],
      "metadata": {
        "colab": {
          "base_uri": "https://localhost:8080/"
        },
        "id": "Sy5A2rwYA9vv",
        "outputId": "af989f0c-3865-48ae-ebcf-dd60ca0b3659"
      },
      "execution_count": null,
      "outputs": [
        {
          "output_type": "stream",
          "name": "stdout",
          "text": [
            "Accuracy: 69.08% (0.71%)\n"
          ]
        }
      ]
    },
    {
      "cell_type": "markdown",
      "source": [
        "\n",
        "Reference: https://www.analyticsvidhya.com/blog/2021/05/tuning-the-hyperparameters-and-layers-of-neural-network-deep-learning/"
      ],
      "metadata": {
        "id": "_PXKqYoUsKRO"
      }
    }
  ],
  "metadata": {
    "colab": {
      "provenance": []
    },
    "kernelspec": {
      "display_name": "Python 3",
      "name": "python3"
    },
    "language_info": {
      "name": "python"
    }
  },
  "nbformat": 4,
  "nbformat_minor": 0
}